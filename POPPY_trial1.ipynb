{
 "cells": [
  {
   "cell_type": "code",
   "execution_count": 1,
   "metadata": {},
   "outputs": [
    {
     "name": "stderr",
     "output_type": "stream",
     "text": [
      "WARNING:root:You are still using the deprecated poppy-creature package! You should replace all \"from poppy.creatures import *\" with \"from pypot.creatures import *\" in order to be compatible with future development.\n"
     ]
    }
   ],
   "source": [
    "from poppy.creatures import PoppyHumanoid"
   ]
  },
  {
   "cell_type": "code",
   "execution_count": 2,
   "metadata": {},
   "outputs": [],
   "source": [
    "from pypot.creatures import PoppyHumanoid"
   ]
  },
  {
   "cell_type": "code",
   "execution_count": 3,
   "metadata": {},
   "outputs": [
    {
     "name": "stderr",
     "output_type": "stream",
     "text": [
      "WARNING:pypot.creatures.abstractcreature:Init fail: could not open port 'COM3': OSError(22, 'The semaphore timeout period has expired.', None, 121)\n",
      "WARNING:pypot.creatures.abstractcreature:Init fail: could not open port 'COM3': OSError(22, 'The semaphore timeout period has expired.', None, 121)\n",
      "WARNING:pypot.creatures.abstractcreature:Init fail: could not open port 'COM3': OSError(22, 'The semaphore timeout period has expired.', None, 121)\n",
      "WARNING:pypot.creatures.abstractcreature:Init fail: could not open port 'COM3': OSError(22, 'The semaphore timeout period has expired.', None, 121)\n",
      "WARNING:pypot.creatures.abstractcreature:Init fail: could not open port 'COM3': OSError(22, 'The semaphore timeout period has expired.', None, 121)\n",
      "WARNING:pypot.creatures.abstractcreature:Init fail: could not open port 'COM3': OSError(22, 'The semaphore timeout period has expired.', None, 121)\n",
      "WARNING:pypot.creatures.abstractcreature:Init fail: could not open port 'COM3': OSError(22, 'The semaphore timeout period has expired.', None, 121)\n",
      "WARNING:pypot.creatures.abstractcreature:Init fail: could not open port 'COM3': OSError(22, 'The semaphore timeout period has expired.', None, 121)\n",
      "WARNING:pypot.creatures.abstractcreature:Init fail: could not open port 'COM3': OSError(22, 'The semaphore timeout period has expired.', None, 121)\n",
      "WARNING:pypot.creatures.abstractcreature:Init fail: could not open port 'COM3': OSError(22, 'The semaphore timeout period has expired.', None, 121)\n"
     ]
    },
    {
     "ename": "OSError",
     "evalue": "Could not initalize robot: could not open port 'COM3': OSError(22, 'The semaphore timeout period has expired.', None, 121) ",
     "output_type": "error",
     "traceback": [
      "\u001b[1;31m---------------------------------------------------------------------------\u001b[0m",
      "\u001b[1;31mOSError\u001b[0m                                   Traceback (most recent call last)",
      "\u001b[1;32m<ipython-input-3-4f29307719a1>\u001b[0m in \u001b[0;36m<module>\u001b[1;34m()\u001b[0m\n\u001b[1;32m----> 1\u001b[1;33m \u001b[0mpoppy\u001b[0m \u001b[1;33m=\u001b[0m \u001b[0mPoppyHumanoid\u001b[0m\u001b[1;33m(\u001b[0m\u001b[1;33m)\u001b[0m\u001b[1;33m\u001b[0m\u001b[0m\n\u001b[0m",
      "\u001b[1;32m~\\ALL ABOUT ME\\PROGRAMME\\Python\\lib\\site-packages\\pypot\\creatures\\abstractcreature.py\u001b[0m in \u001b[0;36m__new__\u001b[1;34m(cls, base_path, config, simulator, scene, host, port, id, shared_vrep_io, use_snap, snap_host, snap_port, snap_quiet, use_http, http_host, http_port, http_quiet, use_remote, remote_host, remote_port, use_ws, ws_host, ws_port, start_background_services, sync, **extra)\u001b[0m\n\u001b[0;32m    126\u001b[0m \u001b[1;33m\u001b[0m\u001b[0m\n\u001b[0;32m    127\u001b[0m             \u001b[1;32melse\u001b[0m\u001b[1;33m:\u001b[0m\u001b[1;33m\u001b[0m\u001b[0m\n\u001b[1;32m--> 128\u001b[1;33m                 \u001b[1;32mraise\u001b[0m \u001b[0mOSError\u001b[0m\u001b[1;33m(\u001b[0m\u001b[1;34m'Could not initalize robot: {} '\u001b[0m\u001b[1;33m.\u001b[0m\u001b[0mformat\u001b[0m\u001b[1;33m(\u001b[0m\u001b[0mexc_inst\u001b[0m\u001b[1;33m)\u001b[0m\u001b[1;33m)\u001b[0m\u001b[1;33m\u001b[0m\u001b[0m\n\u001b[0m\u001b[0;32m    129\u001b[0m             \u001b[0mpoppy_creature\u001b[0m\u001b[1;33m.\u001b[0m\u001b[0msimulated\u001b[0m \u001b[1;33m=\u001b[0m \u001b[1;32mFalse\u001b[0m\u001b[1;33m\u001b[0m\u001b[0m\n\u001b[0;32m    130\u001b[0m \u001b[1;33m\u001b[0m\u001b[0m\n",
      "\u001b[1;31mOSError\u001b[0m: Could not initalize robot: could not open port 'COM3': OSError(22, 'The semaphore timeout period has expired.', None, 121) "
     ]
    }
   ],
   "source": [
    "poppy = PoppyHumanoid()"
   ]
  },
  {
   "cell_type": "code",
   "execution_count": 3,
   "metadata": {},
   "outputs": [
    {
     "ename": "NameError",
     "evalue": "name 'PoppyHumanoid' is not defined",
     "output_type": "error",
     "traceback": [
      "\u001b[1;31m---------------------------------------------------------------------------\u001b[0m",
      "\u001b[1;31mNameError\u001b[0m                                 Traceback (most recent call last)",
      "\u001b[1;32m<ipython-input-3-4f29307719a1>\u001b[0m in \u001b[0;36m<module>\u001b[1;34m()\u001b[0m\n\u001b[1;32m----> 1\u001b[1;33m \u001b[0mpoppy\u001b[0m \u001b[1;33m=\u001b[0m \u001b[0mPoppyHumanoid\u001b[0m\u001b[1;33m(\u001b[0m\u001b[1;33m)\u001b[0m\u001b[1;33m\u001b[0m\u001b[0m\n\u001b[0m",
      "\u001b[1;31mNameError\u001b[0m: name 'PoppyHumanoid' is not defined"
     ]
    }
   ],
   "source": [
    "poppy = PoppyHumanoid()"
   ]
  },
  {
   "cell_type": "code",
   "execution_count": 4,
   "metadata": {},
   "outputs": [
    {
     "ename": "VrepIOErrors",
     "evalue": "No value",
     "output_type": "error",
     "traceback": [
      "\u001b[1;31m---------------------------------------------------------------------------\u001b[0m",
      "\u001b[1;31mVrepIOErrors\u001b[0m                              Traceback (most recent call last)",
      "\u001b[1;32m<ipython-input-4-702f51e5a0fb>\u001b[0m in \u001b[0;36m<module>\u001b[1;34m()\u001b[0m\n\u001b[1;32m----> 1\u001b[1;33m \u001b[0mpoppy\u001b[0m \u001b[1;33m=\u001b[0m \u001b[0mPoppyHumanoid\u001b[0m\u001b[1;33m(\u001b[0m\u001b[0msimulator\u001b[0m\u001b[1;33m=\u001b[0m\u001b[1;34m'vrep'\u001b[0m\u001b[1;33m)\u001b[0m\u001b[1;33m\u001b[0m\u001b[0m\n\u001b[0m",
      "\u001b[1;32m~\\ALL ABOUT ME\\PROGRAMME\\Python\\lib\\site-packages\\pypot\\creatures\\abstractcreature.py\u001b[0m in \u001b[0;36m__new__\u001b[1;34m(cls, base_path, config, simulator, scene, host, port, id, shared_vrep_io, use_snap, snap_host, snap_port, snap_quiet, use_http, http_host, http_port, http_quiet, use_remote, remote_host, remote_port, use_ws, ws_host, ws_port, start_background_services, sync, **extra)\u001b[0m\n\u001b[0;32m    101\u001b[0m \u001b[1;33m\u001b[0m\u001b[0m\n\u001b[0;32m    102\u001b[0m                 \u001b[1;32mtry\u001b[0m\u001b[1;33m:\u001b[0m\u001b[1;33m\u001b[0m\u001b[0m\n\u001b[1;32m--> 103\u001b[1;33m                     \u001b[0mpoppy_creature\u001b[0m \u001b[1;33m=\u001b[0m \u001b[0mfrom_vrep\u001b[0m\u001b[1;33m(\u001b[0m\u001b[0mconfig\u001b[0m\u001b[1;33m,\u001b[0m \u001b[0mhost\u001b[0m\u001b[1;33m,\u001b[0m \u001b[0mport\u001b[0m\u001b[1;33m,\u001b[0m \u001b[0mscene\u001b[0m \u001b[1;32mif\u001b[0m \u001b[0mscene\u001b[0m \u001b[1;33m!=\u001b[0m \u001b[1;34m\"keep-existing\"\u001b[0m \u001b[1;32melse\u001b[0m \u001b[1;32mNone\u001b[0m\u001b[1;33m,\u001b[0m \u001b[0mid\u001b[0m\u001b[1;33m=\u001b[0m\u001b[0mid\u001b[0m\u001b[1;33m,\u001b[0m \u001b[0mshared_vrep_io\u001b[0m\u001b[1;33m=\u001b[0m\u001b[0mshared_vrep_io\u001b[0m\u001b[1;33m)\u001b[0m\u001b[1;33m\u001b[0m\u001b[0m\n\u001b[0m\u001b[0;32m    104\u001b[0m                 \u001b[1;32mexcept\u001b[0m \u001b[0mVrepConnectionError\u001b[0m\u001b[1;33m:\u001b[0m\u001b[1;33m\u001b[0m\u001b[0m\n\u001b[0;32m    105\u001b[0m                     \u001b[1;32mraise\u001b[0m \u001b[0mIOError\u001b[0m\u001b[1;33m(\u001b[0m\u001b[1;34m'Connection to V-REP failed!'\u001b[0m\u001b[1;33m)\u001b[0m\u001b[1;33m\u001b[0m\u001b[0m\n",
      "\u001b[1;32m~\\ALL ABOUT ME\\PROGRAMME\\Python\\lib\\site-packages\\pypot\\vrep\\__init__.py\u001b[0m in \u001b[0;36mfrom_vrep\u001b[1;34m(config, vrep_host, vrep_port, scene, tracked_objects, tracked_collisions, id, shared_vrep_io)\u001b[0m\n\u001b[0;32m    102\u001b[0m \u001b[1;33m\u001b[0m\u001b[0m\n\u001b[0;32m    103\u001b[0m     \u001b[0mvc\u001b[0m \u001b[1;33m=\u001b[0m \u001b[0mVrepController\u001b[0m\u001b[1;33m(\u001b[0m\u001b[0mvrep_io\u001b[0m\u001b[1;33m,\u001b[0m \u001b[0mscene\u001b[0m\u001b[1;33m,\u001b[0m \u001b[0mmotors\u001b[0m\u001b[1;33m,\u001b[0m \u001b[0mid\u001b[0m\u001b[1;33m=\u001b[0m\u001b[0mid\u001b[0m\u001b[1;33m)\u001b[0m\u001b[1;33m\u001b[0m\u001b[0m\n\u001b[1;32m--> 104\u001b[1;33m     \u001b[0mvc\u001b[0m\u001b[1;33m.\u001b[0m\u001b[0m_init_vrep_streaming\u001b[0m\u001b[1;33m(\u001b[0m\u001b[1;33m)\u001b[0m\u001b[1;33m\u001b[0m\u001b[0m\n\u001b[0m\u001b[0;32m    105\u001b[0m \u001b[1;33m\u001b[0m\u001b[0m\n\u001b[0;32m    106\u001b[0m     \u001b[0msensor_controllers\u001b[0m \u001b[1;33m=\u001b[0m \u001b[1;33m[\u001b[0m\u001b[1;33m]\u001b[0m\u001b[1;33m\u001b[0m\u001b[0m\n",
      "\u001b[1;32m~\\ALL ABOUT ME\\PROGRAMME\\Python\\lib\\site-packages\\pypot\\vrep\\controller.py\u001b[0m in \u001b[0;36m_init_vrep_streaming\u001b[1;34m(self)\u001b[0m\n\u001b[0;32m    124\u001b[0m         \u001b[1;31m# And actually affect them\u001b[0m\u001b[1;33m\u001b[0m\u001b[1;33m\u001b[0m\u001b[0m\n\u001b[0;32m    125\u001b[0m         \u001b[1;32mfor\u001b[0m \u001b[0mm\u001b[0m\u001b[1;33m,\u001b[0m \u001b[0mp\u001b[0m \u001b[1;32min\u001b[0m \u001b[0mzip\u001b[0m\u001b[1;33m(\u001b[0m\u001b[0mself\u001b[0m\u001b[1;33m.\u001b[0m\u001b[0mmotors\u001b[0m\u001b[1;33m,\u001b[0m \u001b[0mpos\u001b[0m\u001b[1;33m)\u001b[0m\u001b[1;33m:\u001b[0m\u001b[1;33m\u001b[0m\u001b[0m\n\u001b[1;32m--> 126\u001b[1;33m             \u001b[0mself\u001b[0m\u001b[1;33m.\u001b[0m\u001b[0mio\u001b[0m\u001b[1;33m.\u001b[0m\u001b[0mset_motor_position\u001b[0m\u001b[1;33m(\u001b[0m\u001b[0mself\u001b[0m\u001b[1;33m.\u001b[0m\u001b[0m_motor_name\u001b[0m\u001b[1;33m(\u001b[0m\u001b[0mm\u001b[0m\u001b[1;33m)\u001b[0m\u001b[1;33m,\u001b[0m \u001b[0mp\u001b[0m\u001b[1;33m)\u001b[0m\u001b[1;33m\u001b[0m\u001b[0m\n\u001b[0m\u001b[0;32m    127\u001b[0m             \u001b[0mm\u001b[0m\u001b[1;33m.\u001b[0m\u001b[0m__dict__\u001b[0m\u001b[1;33m[\u001b[0m\u001b[1;34m'goal_position'\u001b[0m\u001b[1;33m]\u001b[0m \u001b[1;33m=\u001b[0m \u001b[0mrad2deg\u001b[0m\u001b[1;33m(\u001b[0m\u001b[0mp\u001b[0m\u001b[1;33m)\u001b[0m\u001b[1;33m\u001b[0m\u001b[0m\n\u001b[0;32m    128\u001b[0m \u001b[1;33m\u001b[0m\u001b[0m\n",
      "\u001b[1;32m~\\ALL ABOUT ME\\PROGRAMME\\Python\\lib\\site-packages\\pypot\\vrep\\io.py\u001b[0m in \u001b[0;36mset_motor_position\u001b[1;34m(self, motor_name, position)\u001b[0m\n\u001b[0;32m    152\u001b[0m                              \u001b[0mself\u001b[0m\u001b[1;33m.\u001b[0m\u001b[0mget_object_handle\u001b[0m\u001b[1;33m(\u001b[0m\u001b[0mmotor_name\u001b[0m\u001b[1;33m)\u001b[0m\u001b[1;33m,\u001b[0m\u001b[1;33m\u001b[0m\u001b[0m\n\u001b[0;32m    153\u001b[0m                              \u001b[0mposition\u001b[0m\u001b[1;33m,\u001b[0m\u001b[1;33m\u001b[0m\u001b[0m\n\u001b[1;32m--> 154\u001b[1;33m                              sending=True)\n\u001b[0m\u001b[0;32m    155\u001b[0m \u001b[1;33m\u001b[0m\u001b[0m\n\u001b[0;32m    156\u001b[0m     \u001b[1;32mdef\u001b[0m \u001b[0mget_motor_force\u001b[0m\u001b[1;33m(\u001b[0m\u001b[0mself\u001b[0m\u001b[1;33m,\u001b[0m \u001b[0mmotor_name\u001b[0m\u001b[1;33m)\u001b[0m\u001b[1;33m:\u001b[0m\u001b[1;33m\u001b[0m\u001b[0m\n",
      "\u001b[1;32m~\\ALL ABOUT ME\\PROGRAMME\\Python\\lib\\site-packages\\pypot\\vrep\\io.py\u001b[0m in \u001b[0;36mcall_remote_api\u001b[1;34m(self, func_name, *args, **kwargs)\u001b[0m\n\u001b[0;32m    357\u001b[0m             msg = ' '.join([vrep_error[2 ** i]\n\u001b[0;32m    358\u001b[0m                             for i, e in enumerate(err) if e])\n\u001b[1;32m--> 359\u001b[1;33m             \u001b[1;32mraise\u001b[0m \u001b[0mVrepIOErrors\u001b[0m\u001b[1;33m(\u001b[0m\u001b[0mmsg\u001b[0m\u001b[1;33m)\u001b[0m\u001b[1;33m\u001b[0m\u001b[0m\n\u001b[0m\u001b[0;32m    360\u001b[0m \u001b[1;33m\u001b[0m\u001b[0m\n\u001b[0;32m    361\u001b[0m         \u001b[1;32mreturn\u001b[0m \u001b[0mres\u001b[0m\u001b[1;33m\u001b[0m\u001b[0m\n",
      "\u001b[1;31mVrepIOErrors\u001b[0m: No value"
     ]
    }
   ],
   "source": [
    "poppy = PoppyHumanoid(simulator='vrep')"
   ]
  },
  {
   "cell_type": "code",
   "execution_count": 5,
   "metadata": {},
   "outputs": [
    {
     "ename": "NameError",
     "evalue": "name 'poppy' is not defined",
     "output_type": "error",
     "traceback": [
      "\u001b[1;31m---------------------------------------------------------------------------\u001b[0m",
      "\u001b[1;31mNameError\u001b[0m                                 Traceback (most recent call last)",
      "\u001b[1;32m<ipython-input-5-44d5461eaf49>\u001b[0m in \u001b[0;36m<module>\u001b[1;34m()\u001b[0m\n\u001b[1;32m----> 1\u001b[1;33m \u001b[0mprint\u001b[0m\u001b[1;33m(\u001b[0m\u001b[0mlen\u001b[0m\u001b[1;33m(\u001b[0m\u001b[0mpoppy\u001b[0m\u001b[1;33m.\u001b[0m\u001b[0mmotors\u001b[0m\u001b[1;33m)\u001b[0m\u001b[1;33m)\u001b[0m\u001b[1;33m\u001b[0m\u001b[0m\n\u001b[0m",
      "\u001b[1;31mNameError\u001b[0m: name 'poppy' is not defined"
     ]
    }
   ],
   "source": [
    "print(len(poppy.motors))"
   ]
  },
  {
   "cell_type": "code",
   "execution_count": 7,
   "metadata": {},
   "outputs": [
    {
     "name": "stdout",
     "output_type": "stream",
     "text": [
      "0.0\n",
      "0.0\n",
      "0.0\n",
      "-2.3000000000000007\n",
      "0.1\n",
      "0.0\n",
      "-0.0\n",
      "-1.0\n",
      "0.0\n",
      "0.0\n",
      "0.3\n",
      "-0.0\n",
      "0.0\n",
      "-0.3\n",
      "-2.0\n",
      "0.1\n",
      "0.0\n",
      "0.1\n",
      "0.0\n",
      "0.1\n",
      "0.1\n",
      "0.0\n",
      "0.0\n",
      "0.29999999999999716\n",
      "-0.29999999999999716\n"
     ]
    }
   ],
   "source": [
    "for m in poppy.motors:\n",
    "    print(m.present_position)"
   ]
  },
  {
   "cell_type": "code",
   "execution_count": 8,
   "metadata": {},
   "outputs": [
    {
     "name": "stdout",
     "output_type": "stream",
     "text": [
      "l_elbow_y\n",
      "r_hip_y\n",
      "r_knee_y\n",
      "head_y\n",
      "r_ankle_y\n",
      "r_arm_z\n",
      "head_z\n",
      "r_shoulder_x\n",
      "r_shoulder_y\n",
      "r_hip_z\n",
      "r_hip_x\n",
      "r_elbow_y\n",
      "l_arm_z\n",
      "l_hip_x\n",
      "l_hip_y\n",
      "l_hip_z\n",
      "abs_x\n",
      "abs_y\n",
      "abs_z\n",
      "l_ankle_y\n",
      "bust_y\n",
      "bust_x\n",
      "l_knee_y\n",
      "l_shoulder_x\n",
      "l_shoulder_y\n"
     ]
    }
   ],
   "source": [
    "for m in poppy.motors:\n",
    "    print(m.name)"
   ]
  },
  {
   "cell_type": "code",
   "execution_count": 9,
   "metadata": {},
   "outputs": [
    {
     "name": "stdout",
     "output_type": "stream",
     "text": [
      "[]\n"
     ]
    }
   ],
   "source": [
    "print([s.name for s in poppy.sensors])"
   ]
  },
  {
   "cell_type": "code",
   "execution_count": 8,
   "metadata": {},
   "outputs": [
    {
     "data": {
      "text/plain": [
       "[<DxlMotor name=abs_y id=31 pos=-12.79>,\n",
       " <DxlMotor name=abs_x id=32 pos=-12.88>,\n",
       " <DxlMotor name=abs_z id=33 pos=-3.38>,\n",
       " <DxlMotor name=bust_y id=34 pos=6.55>,\n",
       " <DxlMotor name=bust_x id=35 pos=-12.26>,\n",
       " <DxlMotor name=head_z id=36 pos=49.12>,\n",
       " <DxlMotor name=head_y id=37 pos=-22.490000000000002>,\n",
       " <DxlMotor name=l_shoulder_y id=41 pos=46.75>,\n",
       " <DxlMotor name=l_shoulder_x id=42 pos=179.01>,\n",
       " <DxlMotor name=l_arm_z id=43 pos=-178.68>,\n",
       " <DxlMotor name=l_elbow_y id=44 pos=-33.27>,\n",
       " <DxlMotor name=r_shoulder_y id=51 pos=-153.43>,\n",
       " <DxlMotor name=r_shoulder_x id=52 pos=0.15000000000000568>,\n",
       " <DxlMotor name=r_arm_z id=53 pos=-4.09>,\n",
       " <DxlMotor name=r_elbow_y id=54 pos=-15.16>,\n",
       " <DxlMotor name=l_hip_x id=11 pos=-23.25>,\n",
       " <DxlMotor name=l_hip_z id=12 pos=0.4>,\n",
       " <DxlMotor name=l_hip_y id=13 pos=-13.82>,\n",
       " <DxlMotor name=l_knee_y id=14 pos=-4.0>,\n",
       " <DxlMotor name=l_ankle_y id=15 pos=-1.63>,\n",
       " <DxlMotor name=r_hip_x id=21 pos=-10.95>,\n",
       " <DxlMotor name=r_hip_z id=22 pos=-1.36>,\n",
       " <DxlMotor name=r_hip_y id=23 pos=-13.58>,\n",
       " <DxlMotor name=r_knee_y id=24 pos=-2.42>,\n",
       " <DxlMotor name=r_ankle_y id=25 pos=6.02>]"
      ]
     },
     "execution_count": 8,
     "metadata": {},
     "output_type": "execute_result"
    }
   ],
   "source": [
    "poppy.motors"
   ]
  },
  {
   "cell_type": "code",
   "execution_count": 10,
   "metadata": {},
   "outputs": [],
   "source": [
    "poppy.head_z.goal_position = 90."
   ]
  },
  {
   "cell_type": "code",
   "execution_count": null,
   "metadata": {},
   "outputs": [],
   "source": []
  },
  {
   "cell_type": "code",
   "execution_count": 12,
   "metadata": {},
   "outputs": [],
   "source": [
    "\n",
    "poppy.head_z.goal_position = 0"
   ]
  },
  {
   "cell_type": "code",
   "execution_count": 13,
   "metadata": {},
   "outputs": [],
   "source": [
    "\n",
    "poppy.head_z.goal_position = 90."
   ]
  },
  {
   "cell_type": "code",
   "execution_count": 14,
   "metadata": {},
   "outputs": [],
   "source": [
    "\n",
    "poppy.head_z.goal_position = 0"
   ]
  },
  {
   "cell_type": "code",
   "execution_count": 15,
   "metadata": {},
   "outputs": [],
   "source": [
    "\n",
    "poppy.head_z.goal_position = 90."
   ]
  },
  {
   "cell_type": "code",
   "execution_count": 11,
   "metadata": {},
   "outputs": [],
   "source": [
    "\n",
    "for m in poppy.l_arm:\n",
    "    m.goal_position = 30."
   ]
  },
  {
   "cell_type": "code",
   "execution_count": 12,
   "metadata": {},
   "outputs": [
    {
     "name": "stderr",
     "output_type": "stream",
     "text": [
      "Exception in thread Thread-7:\n",
      "Traceback (most recent call last):\n",
      "  File \"C:\\Users\\DELL\\ALL ABOUT ME\\PROGRAMME\\Python\\lib\\threading.py\", line 916, in _bootstrap_inner\n",
      "    self.run()\n",
      "  File \"C:\\Users\\DELL\\ALL ABOUT ME\\PROGRAMME\\Python\\lib\\threading.py\", line 864, in run\n",
      "    self._target(*self._args, **self._kwargs)\n",
      "  File \"C:\\Users\\DELL\\ALL ABOUT ME\\PROGRAMME\\Python\\lib\\site-packages\\pypot\\utils\\stoppablethread.py\", line 130, in _wrapped_target\n",
      "    self._target()\n",
      "  File \"C:\\Users\\DELL\\ALL ABOUT ME\\PROGRAMME\\Python\\lib\\site-packages\\pypot\\utils\\stoppablethread.py\", line 205, in run\n",
      "    make_update_loop(self, self._update)\n",
      "  File \"C:\\Users\\DELL\\ALL ABOUT ME\\PROGRAMME\\Python\\lib\\site-packages\\pypot\\utils\\stoppablethread.py\", line 175, in make_update_loop\n",
      "    update_func()\n",
      "  File \"C:\\Users\\DELL\\ALL ABOUT ME\\PROGRAMME\\Python\\lib\\site-packages\\pypot\\dynamixel\\controller.py\", line 59, in update\n",
      "    if self.mode == 'get' else\n",
      "  File \"C:\\Users\\DELL\\ALL ABOUT ME\\PROGRAMME\\Python\\lib\\site-packages\\pypot\\dynamixel\\controller.py\", line 72, in get_register\n",
      "    getter(ids))\n",
      "  File \"C:\\Users\\DELL\\ALL ABOUT ME\\PROGRAMME\\Python\\lib\\site-packages\\pypot\\dynamixel\\io\\abstract_io.py\", line 358, in my_getter\n",
      "    return self._get_control_value(control, ids, **kwargs)\n",
      "  File \"C:\\Users\\DELL\\ALL ABOUT ME\\PROGRAMME\\Python\\lib\\site-packages\\pypot\\dynamixel\\io\\abstract_io.py\", line 390, in _get_control_value\n",
      "    _force_lock=True)\n",
      "  File \"C:\\Users\\DELL\\ALL ABOUT ME\\PROGRAMME\\Python\\lib\\site-packages\\pypot\\dynamixel\\io\\abstract_io.py\", line 530, in _send_packet\n",
      "    sp = self.__real_send(instruction_packet, wait_for_status_packet, _force_lock)\n",
      "  File \"C:\\Users\\DELL\\ALL ABOUT ME\\PROGRAMME\\Python\\lib\\site-packages\\pypot\\dynamixel\\io\\abstract_io.py\", line 486, in __real_send\n",
      "    nbytes = self._serial.write(data)\n",
      "  File \"C:\\Users\\DELL\\ALL ABOUT ME\\PROGRAMME\\Python\\lib\\site-packages\\serial\\serialwin32.py\", line 323, in write\n",
      "    raise writeTimeoutError\n",
      "  File \"C:\\Users\\DELL\\ALL ABOUT ME\\PROGRAMME\\Python\\lib\\threading.py\", line 916, in _bootstrap_inner\n",
      "    self.run()\n",
      "  File \"C:\\Users\\DELL\\ALL ABOUT ME\\PROGRAMME\\Python\\lib\\threading.py\", line 864, in run\n",
      "    self._target(*self._args, **self._kwargs)\n",
      "  File \"C:\\Users\\DELL\\ALL ABOUT ME\\PROGRAMME\\Python\\lib\\site-packages\\pypot\\utils\\stoppablethread.py\", line 130, in _wrapped_target\n",
      "    self._target()\n",
      "  File \"C:\\Users\\DELL\\ALL ABOUT ME\\PROGRAMME\\Python\\lib\\site-packages\\pypot\\utils\\stoppablethread.py\", line 205, in run\n",
      "    make_update_loop(self, self._update)\n",
      "  File \"C:\\Users\\DELL\\ALL ABOUT ME\\PROGRAMME\\Python\\lib\\site-packages\\pypot\\utils\\stoppablethread.py\", line 175, in make_update_loop\n",
      "    update_func()\n",
      "  File \"C:\\Users\\DELL\\ALL ABOUT ME\\PROGRAMME\\Python\\lib\\site-packages\\pypot\\dynamixel\\controller.py\", line 163, in update\n",
      "    self.get_present_position_speed_load(self.working_motors)\n",
      "  File \"C:\\Users\\DELL\\ALL ABOUT ME\\PROGRAMME\\Python\\lib\\site-packages\\pypot\\dynamixel\\controller.py\", line 168, in get_present_position_speed_load\n",
      "    values = self.io.get_present_position_speed_load(ids)\n",
      "  File \"C:\\Users\\DELL\\ALL ABOUT ME\\PROGRAMME\\Python\\lib\\site-packages\\pypot\\dynamixel\\io\\abstract_io.py\", line 358, in my_getter\n",
      "    return self._get_control_value(control, ids, **kwargs)\n",
      "  File \"C:\\Users\\DELL\\ALL ABOUT ME\\PROGRAMME\\Python\\lib\\site-packages\\pypot\\dynamixel\\io\\abstract_io.py\", line 390, in _get_control_value\n",
      "    _force_lock=True)\n",
      "  File \"C:\\Users\\DELL\\ALL ABOUT ME\\PROGRAMME\\Python\\lib\\site-packages\\pypot\\dynamixel\\io\\abstract_io.py\", line 530, in _send_packet\n",
      "    sp = self.__real_send(instruction_packet, wait_for_status_packet, _force_lock)\n",
      "  File \"C:\\Users\\DELL\\ALL ABOUT ME\\PROGRAMME\\Python\\lib\\site-packages\\pypot\\dynamixel\\io\\abstract_io.py\", line 486, in __real_send\n",
      "    nbytes = self._serial.write(data)\n",
      "  File \"C:\\Users\\DELL\\ALL ABOUT ME\\PROGRAMME\\Python\\lib\\site-packages\\serial\\serialwin32.py\", line 323, in write\n",
      "    raise writeTimeoutError\n",
      "serial.serialutil.SerialTimeoutException: Write timeout\n",
      "\n",
      "Exception in thread Thread-13:\n",
      "Traceback (most recent call last):\n",
      "  File \"C:\\Users\\DELL\\ALL ABOUT ME\\PROGRAMME\\Python\\lib\\threading.py\", line 916, in _bootstrap_inner\n",
      "    self.run()\n",
      "  File \"C:\\Users\\DELL\\ALL ABOUT ME\\PROGRAMME\\Python\\lib\\threading.py\", line 864, in run\n",
      "    self._target(*self._args, **self._kwargs)\n",
      "  File \"C:\\Users\\DELL\\ALL ABOUT ME\\PROGRAMME\\Python\\lib\\site-packages\\pypot\\utils\\stoppablethread.py\", line 130, in _wrapped_target\n",
      "    self._target()\n",
      "  File \"C:\\Users\\DELL\\ALL ABOUT ME\\PROGRAMME\\Python\\lib\\site-packages\\pypot\\utils\\stoppablethread.py\", line 205, in run\n",
      "    make_update_loop(self, self._update)\n",
      "  File \"C:\\Users\\DELL\\ALL ABOUT ME\\PROGRAMME\\Python\\lib\\site-packages\\pypot\\utils\\stoppablethread.py\", line 175, in make_update_loop\n",
      "    update_func()\n",
      "  File \"C:\\Users\\DELL\\ALL ABOUT ME\\PROGRAMME\\Python\\lib\\site-packages\\pypot\\dynamixel\\controller.py\", line 60, in update\n",
      "    self.set_register(self.synced_motors))\n",
      "  File \"C:\\Users\\DELL\\ALL ABOUT ME\\PROGRAMME\\Python\\lib\\site-packages\\pypot\\dynamixel\\controller.py\", line 92, in set_register\n",
      "    getattr(self.io, 'set_{}'.format(self.regname))(dict(list(zip(ids, values))))\n",
      "  File \"C:\\Users\\DELL\\ALL ABOUT ME\\PROGRAMME\\Python\\lib\\site-packages\\pypot\\dynamixel\\io\\abstract_io.py\", line 368, in my_setter\n",
      "    self._set_control_value(control, value_for_id, **kwargs)\n",
      "  File \"C:\\Users\\DELL\\ALL ABOUT ME\\PROGRAMME\\Python\\lib\\site-packages\\pypot\\dynamixel\\io\\abstract_io.py\", line 470, in _set_control_value\n",
      "    self._send_packet(wp, wait_for_status_packet=False)\n",
      "  File \"C:\\Users\\DELL\\ALL ABOUT ME\\PROGRAMME\\Python\\lib\\site-packages\\pypot\\dynamixel\\io\\abstract_io.py\", line 527, in _send_packet\n",
      "    return self.__real_send(instruction_packet, wait_for_status_packet, _force_lock)\n",
      "  File \"C:\\Users\\DELL\\ALL ABOUT ME\\PROGRAMME\\Python\\lib\\site-packages\\pypot\\dynamixel\\io\\abstract_io.py\", line 486, in __real_send\n",
      "    nbytes = self._serial.write(data)\n",
      "  File \"C:\\Users\\DELL\\ALL ABOUT ME\\PROGRAMME\\Python\\lib\\site-packages\\serial\\serialwin32.py\", line 323, in write\n",
      "    raise writeTimeoutError\n",
      "  File \"C:\\Users\\DELL\\ALL ABOUT ME\\PROGRAMME\\Python\\lib\\threading.py\", line 916, in _bootstrap_inner\n",
      "    self.run()\n",
      "  File \"C:\\Users\\DELL\\ALL ABOUT ME\\PROGRAMME\\Python\\lib\\threading.py\", line 864, in run\n",
      "    self._target(*self._args, **self._kwargs)\n",
      "  File \"C:\\Users\\DELL\\ALL ABOUT ME\\PROGRAMME\\Python\\lib\\site-packages\\pypot\\utils\\stoppablethread.py\", line 130, in _wrapped_target\n",
      "    self._target()\n",
      "  File \"C:\\Users\\DELL\\ALL ABOUT ME\\PROGRAMME\\Python\\lib\\site-packages\\pypot\\utils\\stoppablethread.py\", line 205, in run\n",
      "    make_update_loop(self, self._update)\n",
      "  File \"C:\\Users\\DELL\\ALL ABOUT ME\\PROGRAMME\\Python\\lib\\site-packages\\pypot\\utils\\stoppablethread.py\", line 175, in make_update_loop\n",
      "    update_func()\n",
      "  File \"C:\\Users\\DELL\\ALL ABOUT ME\\PROGRAMME\\Python\\lib\\site-packages\\pypot\\dynamixel\\controller.py\", line 59, in update\n",
      "    if self.mode == 'get' else\n",
      "  File \"C:\\Users\\DELL\\ALL ABOUT ME\\PROGRAMME\\Python\\lib\\site-packages\\pypot\\dynamixel\\controller.py\", line 72, in get_register\n",
      "    getter(ids))\n",
      "  File \"C:\\Users\\DELL\\ALL ABOUT ME\\PROGRAMME\\Python\\lib\\site-packages\\pypot\\dynamixel\\io\\abstract_io.py\", line 358, in my_getter\n",
      "    return self._get_control_value(control, ids, **kwargs)\n",
      "  File \"C:\\Users\\DELL\\ALL ABOUT ME\\PROGRAMME\\Python\\lib\\site-packages\\pypot\\dynamixel\\io\\abstract_io.py\", line 390, in _get_control_value\n",
      "    _force_lock=True)\n",
      "  File \"C:\\Users\\DELL\\ALL ABOUT ME\\PROGRAMME\\Python\\lib\\site-packages\\pypot\\dynamixel\\io\\abstract_io.py\", line 530, in _send_packet\n",
      "    sp = self.__real_send(instruction_packet, wait_for_status_packet, _force_lock)\n",
      "  File \"C:\\Users\\DELL\\ALL ABOUT ME\\PROGRAMME\\Python\\lib\\site-packages\\pypot\\dynamixel\\io\\abstract_io.py\", line 486, in __real_send\n",
      "    nbytes = self._serial.write(data)\n",
      "  File \"C:\\Users\\DELL\\ALL ABOUT ME\\PROGRAMME\\Python\\lib\\site-packages\\serial\\serialwin32.py\", line 323, in write\n",
      "    raise writeTimeoutError\n",
      "  File \"C:\\Users\\DELL\\ALL ABOUT ME\\PROGRAMME\\Python\\lib\\threading.py\", line 916, in _bootstrap_inner\n",
      "    self.run()\n",
      "  File \"C:\\Users\\DELL\\ALL ABOUT ME\\PROGRAMME\\Python\\lib\\threading.py\", line 864, in run\n",
      "    self._target(*self._args, **self._kwargs)\n",
      "  File \"C:\\Users\\DELL\\ALL ABOUT ME\\PROGRAMME\\Python\\lib\\site-packages\\pypot\\utils\\stoppablethread.py\", line 130, in _wrapped_target\n",
      "    self._target()\n",
      "  File \"C:\\Users\\DELL\\ALL ABOUT ME\\PROGRAMME\\Python\\lib\\site-packages\\pypot\\utils\\stoppablethread.py\", line 205, in run\n",
      "    make_update_loop(self, self._update)\n",
      "  File \"C:\\Users\\DELL\\ALL ABOUT ME\\PROGRAMME\\Python\\lib\\site-packages\\pypot\\utils\\stoppablethread.py\", line 175, in make_update_loop\n",
      "    update_func()\n",
      "  File \"C:\\Users\\DELL\\ALL ABOUT ME\\PROGRAMME\\Python\\lib\\site-packages\\pypot\\dynamixel\\controller.py\", line 163, in update\n",
      "    self.get_present_position_speed_load(self.working_motors)\n",
      "  File \"C:\\Users\\DELL\\ALL ABOUT ME\\PROGRAMME\\Python\\lib\\site-packages\\pypot\\dynamixel\\controller.py\", line 168, in get_present_position_speed_load\n",
      "    values = self.io.get_present_position_speed_load(ids)\n",
      "  File \"C:\\Users\\DELL\\ALL ABOUT ME\\PROGRAMME\\Python\\lib\\site-packages\\pypot\\dynamixel\\io\\abstract_io.py\", line 358, in my_getter\n",
      "    return self._get_control_value(control, ids, **kwargs)\n",
      "  File \"C:\\Users\\DELL\\ALL ABOUT ME\\PROGRAMME\\Python\\lib\\site-packages\\pypot\\dynamixel\\io\\abstract_io.py\", line 390, in _get_control_value\n",
      "    _force_lock=True)\n",
      "  File \"C:\\Users\\DELL\\ALL ABOUT ME\\PROGRAMME\\Python\\lib\\site-packages\\pypot\\dynamixel\\io\\abstract_io.py\", line 530, in _send_packet\n",
      "    sp = self.__real_send(instruction_packet, wait_for_status_packet, _force_lock)\n",
      "  File \"C:\\Users\\DELL\\ALL ABOUT ME\\PROGRAMME\\Python\\lib\\site-packages\\pypot\\dynamixel\\io\\abstract_io.py\", line 486, in __real_send\n",
      "    nbytes = self._serial.write(data)\n",
      "  File \"C:\\Users\\DELL\\ALL ABOUT ME\\PROGRAMME\\Python\\lib\\site-packages\\serial\\serialwin32.py\", line 323, in write\n",
      "    raise writeTimeoutError\n",
      "serial.serialutil.SerialTimeoutException: Write timeout\n",
      "Exception in thread Thread-9:\n",
      "Traceback (most recent call last):\n",
      "  File \"C:\\Users\\DELL\\ALL ABOUT ME\\PROGRAMME\\Python\\lib\\threading.py\", line 916, in _bootstrap_inner\n",
      "    self.run()\n",
      "  File \"C:\\Users\\DELL\\ALL ABOUT ME\\PROGRAMME\\Python\\lib\\threading.py\", line 864, in run\n",
      "    self._target(*self._args, **self._kwargs)\n",
      "  File \"C:\\Users\\DELL\\ALL ABOUT ME\\PROGRAMME\\Python\\lib\\site-packages\\pypot\\utils\\stoppablethread.py\", line 130, in _wrapped_target\n",
      "    self._target()\n",
      "  File \"C:\\Users\\DELL\\ALL ABOUT ME\\PROGRAMME\\Python\\lib\\site-packages\\pypot\\utils\\stoppablethread.py\", line 205, in run\n",
      "    make_update_loop(self, self._update)\n",
      "  File \"C:\\Users\\DELL\\ALL ABOUT ME\\PROGRAMME\\Python\\lib\\site-packages\\pypot\\utils\\stoppablethread.py\", line 175, in make_update_loop\n",
      "    update_func()\n",
      "  File \"C:\\Users\\DELL\\ALL ABOUT ME\\PROGRAMME\\Python\\lib\\site-packages\\pypot\\dynamixel\\controller.py\", line 163, in update\n",
      "    self.get_present_position_speed_load(self.working_motors)\n",
      "  File \"C:\\Users\\DELL\\ALL ABOUT ME\\PROGRAMME\\Python\\lib\\site-packages\\pypot\\dynamixel\\controller.py\", line 168, in get_present_position_speed_load\n",
      "    values = self.io.get_present_position_speed_load(ids)\n",
      "  File \"C:\\Users\\DELL\\ALL ABOUT ME\\PROGRAMME\\Python\\lib\\site-packages\\pypot\\dynamixel\\io\\abstract_io.py\", line 358, in my_getter\n",
      "    return self._get_control_value(control, ids, **kwargs)\n",
      "  File \"C:\\Users\\DELL\\ALL ABOUT ME\\PROGRAMME\\Python\\lib\\site-packages\\pypot\\dynamixel\\io\\abstract_io.py\", line 390, in _get_control_value\n",
      "    _force_lock=True)\n",
      "  File \"C:\\Users\\DELL\\ALL ABOUT ME\\PROGRAMME\\Python\\lib\\site-packages\\pypot\\dynamixel\\io\\abstract_io.py\", line 530, in _send_packet\n",
      "    sp = self.__real_send(instruction_packet, wait_for_status_packet, _force_lock)\n",
      "  File \"C:\\Users\\DELL\\ALL ABOUT ME\\PROGRAMME\\Python\\lib\\site-packages\\pypot\\dynamixel\\io\\abstract_io.py\", line 486, in __real_send\n",
      "    nbytes = self._serial.write(data)\n",
      "  File \"C:\\Users\\DELL\\ALL ABOUT ME\\PROGRAMME\\Python\\lib\\site-packages\\serial\\serialwin32.py\", line 323, in write\n",
      "    raise writeTimeoutError\n",
      "serial.serialutil.SerialTimeoutException: Write timeout\n",
      "\n",
      "Exception in thread Thread-14:\n",
      "Traceback (most recent call last):\n",
      "  File \"C:\\Users\\DELL\\ALL ABOUT ME\\PROGRAMME\\Python\\lib\\threading.py\", line 916, in _bootstrap_inner\n",
      "    self.run()\n",
      "  File \"C:\\Users\\DELL\\ALL ABOUT ME\\PROGRAMME\\Python\\lib\\threading.py\", line 864, in run\n",
      "    self._target(*self._args, **self._kwargs)\n",
      "  File \"C:\\Users\\DELL\\ALL ABOUT ME\\PROGRAMME\\Python\\lib\\site-packages\\pypot\\utils\\stoppablethread.py\", line 130, in _wrapped_target\n",
      "    self._target()\n",
      "  File \"C:\\Users\\DELL\\ALL ABOUT ME\\PROGRAMME\\Python\\lib\\site-packages\\pypot\\utils\\stoppablethread.py\", line 205, in run\n",
      "    make_update_loop(self, self._update)\n",
      "  File \"C:\\Users\\DELL\\ALL ABOUT ME\\PROGRAMME\\Python\\lib\\site-packages\\pypot\\utils\\stoppablethread.py\", line 175, in make_update_loop\n",
      "    update_func()\n",
      "  File \"C:\\Users\\DELL\\ALL ABOUT ME\\PROGRAMME\\Python\\lib\\site-packages\\pypot\\dynamixel\\controller.py\", line 60, in update\n",
      "    self.set_register(self.synced_motors))\n",
      "  File \"C:\\Users\\DELL\\ALL ABOUT ME\\PROGRAMME\\Python\\lib\\site-packages\\pypot\\dynamixel\\controller.py\", line 92, in set_register\n",
      "    getattr(self.io, 'set_{}'.format(self.regname))(dict(list(zip(ids, values))))\n",
      "  File \"C:\\Users\\DELL\\ALL ABOUT ME\\PROGRAMME\\Python\\lib\\site-packages\\pypot\\dynamixel\\io\\abstract_io.py\", line 368, in my_setter\n",
      "    self._set_control_value(control, value_for_id, **kwargs)\n",
      "  File \"C:\\Users\\DELL\\ALL ABOUT ME\\PROGRAMME\\Python\\lib\\site-packages\\pypot\\dynamixel\\io\\abstract_io.py\", line 470, in _set_control_value\n",
      "    self._send_packet(wp, wait_for_status_packet=False)\n",
      "  File \"C:\\Users\\DELL\\ALL ABOUT ME\\PROGRAMME\\Python\\lib\\site-packages\\pypot\\dynamixel\\io\\abstract_io.py\", line 527, in _send_packet\n",
      "    return self.__real_send(instruction_packet, wait_for_status_packet, _force_lock)\n",
      "  File \"C:\\Users\\DELL\\ALL ABOUT ME\\PROGRAMME\\Python\\lib\\site-packages\\pypot\\dynamixel\\io\\abstract_io.py\", line 486, in __real_send\n",
      "    nbytes = self._serial.write(data)\n",
      "  File \"C:\\Users\\DELL\\ALL ABOUT ME\\PROGRAMME\\Python\\lib\\site-packages\\serial\\serialwin32.py\", line 315, in write\n",
      "    raise SerialException(\"WriteFile failed ({!r})\".format(ctypes.WinError()))\n",
      "serial.serialutil.SerialException: WriteFile failed (PermissionError(13, 'The device does not recognize the command.', None, 22))\n",
      "\n",
      "Exception in thread Thread-10:\n",
      "Traceback (most recent call last):\n",
      "  File \"C:\\Users\\DELL\\ALL ABOUT ME\\PROGRAMME\\Python\\lib\\threading.py\", line 916, in _bootstrap_inner\n",
      "    self.run()\n",
      "  File \"C:\\Users\\DELL\\ALL ABOUT ME\\PROGRAMME\\Python\\lib\\threading.py\", line 864, in run\n",
      "    self._target(*self._args, **self._kwargs)\n",
      "  File \"C:\\Users\\DELL\\ALL ABOUT ME\\PROGRAMME\\Python\\lib\\site-packages\\pypot\\utils\\stoppablethread.py\", line 130, in _wrapped_target\n",
      "    self._target()\n",
      "  File \"C:\\Users\\DELL\\ALL ABOUT ME\\PROGRAMME\\Python\\lib\\site-packages\\pypot\\utils\\stoppablethread.py\", line 205, in run\n",
      "    make_update_loop(self, self._update)\n",
      "  File \"C:\\Users\\DELL\\ALL ABOUT ME\\PROGRAMME\\Python\\lib\\site-packages\\pypot\\utils\\stoppablethread.py\", line 175, in make_update_loop\n",
      "    update_func()\n",
      "  File \"C:\\Users\\DELL\\ALL ABOUT ME\\PROGRAMME\\Python\\lib\\site-packages\\pypot\\dynamixel\\controller.py\", line 59, in update\n",
      "    if self.mode == 'get' else\n",
      "  File \"C:\\Users\\DELL\\ALL ABOUT ME\\PROGRAMME\\Python\\lib\\site-packages\\pypot\\dynamixel\\controller.py\", line 129, in get_register\n",
      "    values = self.io.get_angle_limit(ids)\n",
      "  File \"C:\\Users\\DELL\\ALL ABOUT ME\\PROGRAMME\\Python\\lib\\site-packages\\pypot\\dynamixel\\io\\abstract_io.py\", line 358, in my_getter\n",
      "    return self._get_control_value(control, ids, **kwargs)\n",
      "  File \"C:\\Users\\DELL\\ALL ABOUT ME\\PROGRAMME\\Python\\lib\\site-packages\\pypot\\dynamixel\\io\\abstract_io.py\", line 390, in _get_control_value\n",
      "    _force_lock=True)\n",
      "  File \"C:\\Users\\DELL\\ALL ABOUT ME\\PROGRAMME\\Python\\lib\\site-packages\\pypot\\dynamixel\\io\\abstract_io.py\", line 530, in _send_packet\n",
      "    sp = self.__real_send(instruction_packet, wait_for_status_packet, _force_lock)\n",
      "  File \"C:\\Users\\DELL\\ALL ABOUT ME\\PROGRAMME\\Python\\lib\\site-packages\\pypot\\dynamixel\\io\\abstract_io.py\", line 486, in __real_send\n",
      "    nbytes = self._serial.write(data)\n",
      "  File \"C:\\Users\\DELL\\ALL ABOUT ME\\PROGRAMME\\Python\\lib\\site-packages\\serial\\serialwin32.py\", line 315, in write\n",
      "    raise SerialException(\"WriteFile failed ({!r})\".format(ctypes.WinError()))\n",
      "serial.serialutil.SerialException: WriteFile failed (PermissionError(13, 'The device does not recognize the command.', None, 22))\n",
      "\n",
      "\n",
      "Exception in thread Thread-8:\n",
      "Traceback (most recent call last):\n",
      "  File \"C:\\Users\\DELL\\ALL ABOUT ME\\PROGRAMME\\Python\\lib\\threading.py\", line 916, in _bootstrap_inner\n",
      "    self.run()\n",
      "  File \"C:\\Users\\DELL\\ALL ABOUT ME\\PROGRAMME\\Python\\lib\\threading.py\", line 864, in run\n",
      "    self._target(*self._args, **self._kwargs)\n",
      "  File \"C:\\Users\\DELL\\ALL ABOUT ME\\PROGRAMME\\Python\\lib\\site-packages\\pypot\\utils\\stoppablethread.py\", line 130, in _wrapped_target\n",
      "    self._target()\n",
      "  File \"C:\\Users\\DELL\\ALL ABOUT ME\\PROGRAMME\\Python\\lib\\site-packages\\pypot\\utils\\stoppablethread.py\", line 205, in run\n",
      "    make_update_loop(self, self._update)\n",
      "  File \"C:\\Users\\DELL\\ALL ABOUT ME\\PROGRAMME\\Python\\lib\\site-packages\\pypot\\utils\\stoppablethread.py\", line 175, in make_update_loop\n",
      "    update_func()\n",
      "  File \"C:\\Users\\DELL\\ALL ABOUT ME\\PROGRAMME\\Python\\lib\\site-packages\\pypot\\dynamixel\\controller.py\", line 60, in update\n",
      "    self.set_register(self.synced_motors))\n",
      "  File \"C:\\Users\\DELL\\ALL ABOUT ME\\PROGRAMME\\Python\\lib\\site-packages\\pypot\\dynamixel\\controller.py\", line 92, in set_register\n",
      "    getattr(self.io, 'set_{}'.format(self.regname))(dict(list(zip(ids, values))))\n",
      "  File \"C:\\Users\\DELL\\ALL ABOUT ME\\PROGRAMME\\Python\\lib\\site-packages\\pypot\\dynamixel\\io\\abstract_io.py\", line 314, in set_pid_gain\n",
      "    self._set_pid_gain(pid_for_id, **kwargs)\n",
      "  File \"C:\\Users\\DELL\\ALL ABOUT ME\\PROGRAMME\\Python\\lib\\site-packages\\pypot\\dynamixel\\io\\abstract_io.py\", line 368, in my_setter\n",
      "    self._set_control_value(control, value_for_id, **kwargs)\n",
      "  File \"C:\\Users\\DELL\\ALL ABOUT ME\\PROGRAMME\\Python\\lib\\site-packages\\pypot\\dynamixel\\io\\abstract_io.py\", line 470, in _set_control_value\n",
      "    self._send_packet(wp, wait_for_status_packet=False)\n",
      "  File \"C:\\Users\\DELL\\ALL ABOUT ME\\PROGRAMME\\Python\\lib\\site-packages\\pypot\\dynamixel\\io\\abstract_io.py\", line 527, in _send_packet\n",
      "    return self.__real_send(instruction_packet, wait_for_status_packet, _force_lock)\n",
      "  File \"C:\\Users\\DELL\\ALL ABOUT ME\\PROGRAMME\\Python\\lib\\site-packages\\pypot\\dynamixel\\io\\abstract_io.py\", line 486, in __real_send\n",
      "    nbytes = self._serial.write(data)\n",
      "  File \"C:\\Users\\DELL\\ALL ABOUT ME\\PROGRAMME\\Python\\lib\\site-packages\\serial\\serialwin32.py\", line 315, in write\n",
      "    raise SerialException(\"WriteFile failed ({!r})\".format(ctypes.WinError()))\n",
      "serial.serialutil.SerialException: WriteFile failed (PermissionError(13, 'The device does not recognize the command.', None, 22))\n",
      "\n"
     ]
    },
    {
     "name": "stderr",
     "output_type": "stream",
     "text": [
      "Exception in thread Thread-11:\n",
      "Traceback (most recent call last):\n",
      "  File \"C:\\Users\\DELL\\ALL ABOUT ME\\PROGRAMME\\Python\\lib\\threading.py\", line 916, in _bootstrap_inner\n",
      "    self.run()\n",
      "  File \"C:\\Users\\DELL\\ALL ABOUT ME\\PROGRAMME\\Python\\lib\\threading.py\", line 864, in run\n",
      "    self._target(*self._args, **self._kwargs)\n",
      "  File \"C:\\Users\\DELL\\ALL ABOUT ME\\PROGRAMME\\Python\\lib\\site-packages\\pypot\\utils\\stoppablethread.py\", line 130, in _wrapped_target\n",
      "    self._target()\n",
      "  File \"C:\\Users\\DELL\\ALL ABOUT ME\\PROGRAMME\\Python\\lib\\site-packages\\pypot\\utils\\stoppablethread.py\", line 205, in run\n",
      "    make_update_loop(self, self._update)\n",
      "  File \"C:\\Users\\DELL\\ALL ABOUT ME\\PROGRAMME\\Python\\lib\\site-packages\\pypot\\utils\\stoppablethread.py\", line 175, in make_update_loop\n",
      "    update_func()\n",
      "  File \"C:\\Users\\DELL\\ALL ABOUT ME\\PROGRAMME\\Python\\lib\\site-packages\\pypot\\dynamixel\\controller.py\", line 59, in update\n",
      "    if self.mode == 'get' else\n",
      "  File \"C:\\Users\\DELL\\ALL ABOUT ME\\PROGRAMME\\Python\\lib\\site-packages\\pypot\\dynamixel\\controller.py\", line 72, in get_register\n",
      "    getter(ids))\n",
      "  File \"C:\\Users\\DELL\\ALL ABOUT ME\\PROGRAMME\\Python\\lib\\site-packages\\pypot\\dynamixel\\io\\abstract_io.py\", line 358, in my_getter\n",
      "    return self._get_control_value(control, ids, **kwargs)\n",
      "  File \"C:\\Users\\DELL\\ALL ABOUT ME\\PROGRAMME\\Python\\lib\\site-packages\\pypot\\dynamixel\\io\\abstract_io.py\", line 390, in _get_control_value\n",
      "    _force_lock=True)\n",
      "  File \"C:\\Users\\DELL\\ALL ABOUT ME\\PROGRAMME\\Python\\lib\\site-packages\\pypot\\dynamixel\\io\\abstract_io.py\", line 530, in _send_packet\n",
      "    sp = self.__real_send(instruction_packet, wait_for_status_packet, _force_lock)\n",
      "  File \"C:\\Users\\DELL\\ALL ABOUT ME\\PROGRAMME\\Python\\lib\\site-packages\\pypot\\dynamixel\\io\\abstract_io.py\", line 486, in __real_send\n",
      "    nbytes = self._serial.write(data)\n",
      "  File \"C:\\Users\\DELL\\ALL ABOUT ME\\PROGRAMME\\Python\\lib\\site-packages\\serial\\serialwin32.py\", line 315, in write\n",
      "    raise SerialException(\"WriteFile failed ({!r})\".format(ctypes.WinError()))\n",
      "serial.serialutil.SerialException: WriteFile failed (PermissionError(13, 'The device does not recognize the command.', None, 22))\n",
      "Exception in thread Thread-12:\n",
      "Traceback (most recent call last):\n",
      "  File \"C:\\Users\\DELL\\ALL ABOUT ME\\PROGRAMME\\Python\\lib\\threading.py\", line 916, in _bootstrap_inner\n",
      "    self.run()\n",
      "  File \"C:\\Users\\DELL\\ALL ABOUT ME\\PROGRAMME\\Python\\lib\\threading.py\", line 864, in run\n",
      "    self._target(*self._args, **self._kwargs)\n",
      "  File \"C:\\Users\\DELL\\ALL ABOUT ME\\PROGRAMME\\Python\\lib\\site-packages\\pypot\\utils\\stoppablethread.py\", line 130, in _wrapped_target\n",
      "    self._target()\n",
      "  File \"C:\\Users\\DELL\\ALL ABOUT ME\\PROGRAMME\\Python\\lib\\site-packages\\pypot\\utils\\stoppablethread.py\", line 205, in run\n",
      "    make_update_loop(self, self._update)\n",
      "  File \"C:\\Users\\DELL\\ALL ABOUT ME\\PROGRAMME\\Python\\lib\\site-packages\\pypot\\utils\\stoppablethread.py\", line 175, in make_update_loop\n",
      "    update_func()\n",
      "  File \"C:\\Users\\DELL\\ALL ABOUT ME\\PROGRAMME\\Python\\lib\\site-packages\\pypot\\dynamixel\\controller.py\", line 59, in update\n",
      "    if self.mode == 'get' else\n",
      "  File \"C:\\Users\\DELL\\ALL ABOUT ME\\PROGRAMME\\Python\\lib\\site-packages\\pypot\\dynamixel\\controller.py\", line 72, in get_register\n",
      "    getter(ids))\n",
      "  File \"C:\\Users\\DELL\\ALL ABOUT ME\\PROGRAMME\\Python\\lib\\site-packages\\pypot\\dynamixel\\io\\abstract_io.py\", line 358, in my_getter\n",
      "    return self._get_control_value(control, ids, **kwargs)\n",
      "  File \"C:\\Users\\DELL\\ALL ABOUT ME\\PROGRAMME\\Python\\lib\\site-packages\\pypot\\dynamixel\\io\\abstract_io.py\", line 390, in _get_control_value\n",
      "    _force_lock=True)\n",
      "  File \"C:\\Users\\DELL\\ALL ABOUT ME\\PROGRAMME\\Python\\lib\\site-packages\\pypot\\dynamixel\\io\\abstract_io.py\", line 530, in _send_packet\n",
      "    sp = self.__real_send(instruction_packet, wait_for_status_packet, _force_lock)\n",
      "  File \"C:\\Users\\DELL\\ALL ABOUT ME\\PROGRAMME\\Python\\lib\\site-packages\\pypot\\dynamixel\\io\\abstract_io.py\", line 486, in __real_send\n",
      "    nbytes = self._serial.write(data)\n",
      "  File \"C:\\Users\\DELL\\ALL ABOUT ME\\PROGRAMME\\Python\\lib\\site-packages\\serial\\serialwin32.py\", line 315, in write\n",
      "    raise SerialException(\"WriteFile failed ({!r})\".format(ctypes.WinError()))\n",
      "serial.serialutil.SerialException: WriteFile failed (PermissionError(13, 'The device does not recognize the command.', None, 22))\n",
      "\n",
      "\n",
      "WARNING:pypot.dynamixel.error:Timeout after sending DxlSyncReadDataPacket(ids=(11, 12, 13, 14, 15, 21, 22, 23, 24, 25), address=36, length=6) to motors 254\n",
      "WARNING:pypot.dynamixel.controller:Timeout when getting pos/speed/load from [11, 12, 13, 14, 15, 21, 22, 23, 24, 25]\n",
      "Exception in thread Thread-18:\n",
      "Traceback (most recent call last):\n",
      "  File \"C:\\Users\\DELL\\ALL ABOUT ME\\PROGRAMME\\Python\\lib\\threading.py\", line 916, in _bootstrap_inner\n",
      "    self.run()\n",
      "  File \"C:\\Users\\DELL\\ALL ABOUT ME\\PROGRAMME\\Python\\lib\\threading.py\", line 864, in run\n",
      "    self._target(*self._args, **self._kwargs)\n",
      "  File \"C:\\Users\\DELL\\ALL ABOUT ME\\PROGRAMME\\Python\\lib\\site-packages\\pypot\\utils\\stoppablethread.py\", line 130, in _wrapped_target\n",
      "    self._target()\n",
      "  File \"C:\\Users\\DELL\\ALL ABOUT ME\\PROGRAMME\\Python\\lib\\site-packages\\pypot\\utils\\stoppablethread.py\", line 205, in run\n",
      "    make_update_loop(self, self._update)\n",
      "  File \"C:\\Users\\DELL\\ALL ABOUT ME\\PROGRAMME\\Python\\lib\\site-packages\\pypot\\utils\\stoppablethread.py\", line 175, in make_update_loop\n",
      "    update_func()\n",
      "  File \"C:\\Users\\DELL\\ALL ABOUT ME\\PROGRAMME\\Python\\lib\\site-packages\\pypot\\dynamixel\\controller.py\", line 163, in update\n",
      "    self.get_present_position_speed_load(self.working_motors)\n",
      "  File \"C:\\Users\\DELL\\ALL ABOUT ME\\PROGRAMME\\Python\\lib\\site-packages\\pypot\\dynamixel\\controller.py\", line 168, in get_present_position_speed_load\n",
      "    values = self.io.get_present_position_speed_load(ids)\n",
      "  File \"C:\\Users\\DELL\\ALL ABOUT ME\\PROGRAMME\\Python\\lib\\site-packages\\pypot\\dynamixel\\io\\abstract_io.py\", line 358, in my_getter\n",
      "    return self._get_control_value(control, ids, **kwargs)\n",
      "  File \"C:\\Users\\DELL\\ALL ABOUT ME\\PROGRAMME\\Python\\lib\\site-packages\\pypot\\dynamixel\\io\\abstract_io.py\", line 390, in _get_control_value\n",
      "    _force_lock=True)\n",
      "  File \"C:\\Users\\DELL\\ALL ABOUT ME\\PROGRAMME\\Python\\lib\\site-packages\\pypot\\dynamixel\\io\\abstract_io.py\", line 530, in _send_packet\n",
      "    sp = self.__real_send(instruction_packet, wait_for_status_packet, _force_lock)\n",
      "  File \"C:\\Users\\DELL\\ALL ABOUT ME\\PROGRAMME\\Python\\lib\\site-packages\\pypot\\dynamixel\\io\\abstract_io.py\", line 486, in __real_send\n",
      "    nbytes = self._serial.write(data)\n",
      "  File \"C:\\Users\\DELL\\ALL ABOUT ME\\PROGRAMME\\Python\\lib\\site-packages\\serial\\serialwin32.py\", line 315, in write\n",
      "    raise SerialException(\"WriteFile failed ({!r})\".format(ctypes.WinError()))\n",
      "serial.serialutil.SerialException: WriteFile failed (PermissionError(13, 'The device does not recognize the command.', None, 22))\n",
      "\n",
      "Exception in thread Thread-16:\n",
      "Traceback (most recent call last):\n",
      "  File \"C:\\Users\\DELL\\ALL ABOUT ME\\PROGRAMME\\Python\\lib\\threading.py\", line 916, in _bootstrap_inner\n",
      "    self.run()\n",
      "  File \"C:\\Users\\DELL\\ALL ABOUT ME\\PROGRAMME\\Python\\lib\\threading.py\", line 864, in run\n",
      "    self._target(*self._args, **self._kwargs)\n",
      "  File \"C:\\Users\\DELL\\ALL ABOUT ME\\PROGRAMME\\Python\\lib\\site-packages\\pypot\\utils\\stoppablethread.py\", line 130, in _wrapped_target\n",
      "    self._target()\n",
      "  File \"C:\\Users\\DELL\\ALL ABOUT ME\\PROGRAMME\\Python\\lib\\site-packages\\pypot\\utils\\stoppablethread.py\", line 205, in run\n",
      "    make_update_loop(self, self._update)\n",
      "  File \"C:\\Users\\DELL\\ALL ABOUT ME\\PROGRAMME\\Python\\lib\\site-packages\\pypot\\utils\\stoppablethread.py\", line 175, in make_update_loop\n",
      "    update_func()\n",
      "  File \"C:\\Users\\DELL\\ALL ABOUT ME\\PROGRAMME\\Python\\lib\\site-packages\\pypot\\dynamixel\\controller.py\", line 59, in update\n",
      "    if self.mode == 'get' else\n",
      "  File \"C:\\Users\\DELL\\ALL ABOUT ME\\PROGRAMME\\Python\\lib\\site-packages\\pypot\\dynamixel\\controller.py\", line 72, in get_register\n",
      "    getter(ids))\n",
      "  File \"C:\\Users\\DELL\\ALL ABOUT ME\\PROGRAMME\\Python\\lib\\site-packages\\pypot\\dynamixel\\io\\abstract_io.py\", line 358, in my_getter\n",
      "    return self._get_control_value(control, ids, **kwargs)\n",
      "  File \"C:\\Users\\DELL\\ALL ABOUT ME\\PROGRAMME\\Python\\lib\\site-packages\\pypot\\dynamixel\\io\\abstract_io.py\", line 390, in _get_control_value\n",
      "    _force_lock=True)\n",
      "  File \"C:\\Users\\DELL\\ALL ABOUT ME\\PROGRAMME\\Python\\lib\\site-packages\\pypot\\dynamixel\\io\\abstract_io.py\", line 530, in _send_packet\n",
      "    sp = self.__real_send(instruction_packet, wait_for_status_packet, _force_lock)\n",
      "  File \"C:\\Users\\DELL\\ALL ABOUT ME\\PROGRAMME\\Python\\lib\\site-packages\\pypot\\dynamixel\\io\\abstract_io.py\", line 486, in __real_send\n",
      "    nbytes = self._serial.write(data)\n",
      "  File \"C:\\Users\\DELL\\ALL ABOUT ME\\PROGRAMME\\Python\\lib\\site-packages\\serial\\serialwin32.py\", line 315, in write\n",
      "    raise SerialException(\"WriteFile failed ({!r})\".format(ctypes.WinError()))\n",
      "serial.serialutil.SerialException: WriteFile failed (PermissionError(13, 'The device does not recognize the command.', None, 22))\n",
      "Exception in thread Thread-19:\n",
      "Traceback (most recent call last):\n",
      "  File \"C:\\Users\\DELL\\ALL ABOUT ME\\PROGRAMME\\Python\\lib\\threading.py\", line 916, in _bootstrap_inner\n",
      "    self.run()\n",
      "  File \"C:\\Users\\DELL\\ALL ABOUT ME\\PROGRAMME\\Python\\lib\\threading.py\", line 864, in run\n",
      "    self._target(*self._args, **self._kwargs)\n",
      "  File \"C:\\Users\\DELL\\ALL ABOUT ME\\PROGRAMME\\Python\\lib\\site-packages\\pypot\\utils\\stoppablethread.py\", line 130, in _wrapped_target\n",
      "    self._target()\n",
      "  File \"C:\\Users\\DELL\\ALL ABOUT ME\\PROGRAMME\\Python\\lib\\site-packages\\pypot\\utils\\stoppablethread.py\", line 205, in run\n",
      "    make_update_loop(self, self._update)\n",
      "  File \"C:\\Users\\DELL\\ALL ABOUT ME\\PROGRAMME\\Python\\lib\\site-packages\\pypot\\utils\\stoppablethread.py\", line 175, in make_update_loop\n",
      "    update_func()\n",
      "  File \"C:\\Users\\DELL\\ALL ABOUT ME\\PROGRAMME\\Python\\lib\\site-packages\\pypot\\dynamixel\\controller.py\", line 59, in update\n",
      "    if self.mode == 'get' else\n",
      "  File \"C:\\Users\\DELL\\ALL ABOUT ME\\PROGRAMME\\Python\\lib\\site-packages\\pypot\\dynamixel\\controller.py\", line 129, in get_register\n",
      "    values = self.io.get_angle_limit(ids)\n",
      "  File \"C:\\Users\\DELL\\ALL ABOUT ME\\PROGRAMME\\Python\\lib\\site-packages\\pypot\\dynamixel\\io\\abstract_io.py\", line 358, in my_getter\n",
      "    return self._get_control_value(control, ids, **kwargs)\n",
      "  File \"C:\\Users\\DELL\\ALL ABOUT ME\\PROGRAMME\\Python\\lib\\site-packages\\pypot\\dynamixel\\io\\abstract_io.py\", line 390, in _get_control_value\n",
      "    _force_lock=True)\n",
      "  File \"C:\\Users\\DELL\\ALL ABOUT ME\\PROGRAMME\\Python\\lib\\site-packages\\pypot\\dynamixel\\io\\abstract_io.py\", line 530, in _send_packet\n",
      "    sp = self.__real_send(instruction_packet, wait_for_status_packet, _force_lock)\n",
      "  File \"C:\\Users\\DELL\\ALL ABOUT ME\\PROGRAMME\\Python\\lib\\site-packages\\pypot\\dynamixel\\io\\abstract_io.py\", line 486, in __real_send\n",
      "    nbytes = self._serial.write(data)\n",
      "  File \"C:\\Users\\DELL\\ALL ABOUT ME\\PROGRAMME\\Python\\lib\\site-packages\\serial\\serialwin32.py\", line 315, in write\n",
      "    raise SerialException(\"WriteFile failed ({!r})\".format(ctypes.WinError()))\n",
      "serial.serialutil.SerialException: WriteFile failed (PermissionError(13, 'The device does not recognize the command.', None, 22))\n",
      "\n",
      "\n",
      "Exception in thread Thread-17:\n",
      "Traceback (most recent call last):\n",
      "  File \"C:\\Users\\DELL\\ALL ABOUT ME\\PROGRAMME\\Python\\lib\\threading.py\", line 916, in _bootstrap_inner\n",
      "    self.run()\n",
      "  File \"C:\\Users\\DELL\\ALL ABOUT ME\\PROGRAMME\\Python\\lib\\threading.py\", line 864, in run\n",
      "    self._target(*self._args, **self._kwargs)\n",
      "  File \"C:\\Users\\DELL\\ALL ABOUT ME\\PROGRAMME\\Python\\lib\\site-packages\\pypot\\utils\\stoppablethread.py\", line 130, in _wrapped_target\n",
      "    self._target()\n",
      "  File \"C:\\Users\\DELL\\ALL ABOUT ME\\PROGRAMME\\Python\\lib\\site-packages\\pypot\\utils\\stoppablethread.py\", line 205, in run\n",
      "    make_update_loop(self, self._update)\n",
      "  File \"C:\\Users\\DELL\\ALL ABOUT ME\\PROGRAMME\\Python\\lib\\site-packages\\pypot\\utils\\stoppablethread.py\", line 175, in make_update_loop\n",
      "    update_func()\n",
      "  File \"C:\\Users\\DELL\\ALL ABOUT ME\\PROGRAMME\\Python\\lib\\site-packages\\pypot\\dynamixel\\controller.py\", line 60, in update\n",
      "    self.set_register(self.synced_motors))\n",
      "  File \"C:\\Users\\DELL\\ALL ABOUT ME\\PROGRAMME\\Python\\lib\\site-packages\\pypot\\dynamixel\\controller.py\", line 92, in set_register\n",
      "    getattr(self.io, 'set_{}'.format(self.regname))(dict(list(zip(ids, values))))\n",
      "  File \"C:\\Users\\DELL\\ALL ABOUT ME\\PROGRAMME\\Python\\lib\\site-packages\\pypot\\dynamixel\\io\\abstract_io.py\", line 314, in set_pid_gain\n",
      "    self._set_pid_gain(pid_for_id, **kwargs)\n",
      "  File \"C:\\Users\\DELL\\ALL ABOUT ME\\PROGRAMME\\Python\\lib\\site-packages\\pypot\\dynamixel\\io\\abstract_io.py\", line 368, in my_setter\n",
      "    self._set_control_value(control, value_for_id, **kwargs)\n",
      "  File \"C:\\Users\\DELL\\ALL ABOUT ME\\PROGRAMME\\Python\\lib\\site-packages\\pypot\\dynamixel\\io\\abstract_io.py\", line 470, in _set_control_value\n",
      "    self._send_packet(wp, wait_for_status_packet=False)\n",
      "  File \"C:\\Users\\DELL\\ALL ABOUT ME\\PROGRAMME\\Python\\lib\\site-packages\\pypot\\dynamixel\\io\\abstract_io.py\", line 527, in _send_packet\n",
      "    return self.__real_send(instruction_packet, wait_for_status_packet, _force_lock)\n",
      "  File \"C:\\Users\\DELL\\ALL ABOUT ME\\PROGRAMME\\Python\\lib\\site-packages\\pypot\\dynamixel\\io\\abstract_io.py\", line 486, in __real_send\n",
      "    nbytes = self._serial.write(data)\n",
      "  File \"C:\\Users\\DELL\\ALL ABOUT ME\\PROGRAMME\\Python\\lib\\site-packages\\serial\\serialwin32.py\", line 315, in write\n",
      "    raise SerialException(\"WriteFile failed ({!r})\".format(ctypes.WinError()))\n",
      "serial.serialutil.SerialException: WriteFile failed (PermissionError(13, 'The device does not recognize the command.', None, 22))\n",
      "\n"
     ]
    },
    {
     "name": "stderr",
     "output_type": "stream",
     "text": [
      "Exception in thread Thread-20:\n",
      "Traceback (most recent call last):\n",
      "  File \"C:\\Users\\DELL\\ALL ABOUT ME\\PROGRAMME\\Python\\lib\\threading.py\", line 916, in _bootstrap_inner\n",
      "    self.run()\n",
      "  File \"C:\\Users\\DELL\\ALL ABOUT ME\\PROGRAMME\\Python\\lib\\threading.py\", line 864, in run\n",
      "    self._target(*self._args, **self._kwargs)\n",
      "  File \"C:\\Users\\DELL\\ALL ABOUT ME\\PROGRAMME\\Python\\lib\\site-packages\\pypot\\utils\\stoppablethread.py\", line 130, in _wrapped_target\n",
      "    self._target()\n",
      "  File \"C:\\Users\\DELL\\ALL ABOUT ME\\PROGRAMME\\Python\\lib\\site-packages\\pypot\\utils\\stoppablethread.py\", line 205, in run\n",
      "    make_update_loop(self, self._update)\n",
      "  File \"C:\\Users\\DELL\\ALL ABOUT ME\\PROGRAMME\\Python\\lib\\site-packages\\pypot\\utils\\stoppablethread.py\", line 175, in make_update_loop\n",
      "    update_func()\n",
      "  File \"C:\\Users\\DELL\\ALL ABOUT ME\\PROGRAMME\\Python\\lib\\site-packages\\pypot\\dynamixel\\controller.py\", line 59, in update\n",
      "    if self.mode == 'get' else\n",
      "  File \"C:\\Users\\DELL\\ALL ABOUT ME\\PROGRAMME\\Python\\lib\\site-packages\\pypot\\dynamixel\\controller.py\", line 72, in get_register\n",
      "    getter(ids))\n",
      "  File \"C:\\Users\\DELL\\ALL ABOUT ME\\PROGRAMME\\Python\\lib\\site-packages\\pypot\\dynamixel\\io\\abstract_io.py\", line 358, in my_getter\n",
      "    return self._get_control_value(control, ids, **kwargs)\n",
      "  File \"C:\\Users\\DELL\\ALL ABOUT ME\\PROGRAMME\\Python\\lib\\site-packages\\pypot\\dynamixel\\io\\abstract_io.py\", line 390, in _get_control_value\n",
      "    _force_lock=True)\n",
      "  File \"C:\\Users\\DELL\\ALL ABOUT ME\\PROGRAMME\\Python\\lib\\site-packages\\pypot\\dynamixel\\io\\abstract_io.py\", line 530, in _send_packet\n",
      "    sp = self.__real_send(instruction_packet, wait_for_status_packet, _force_lock)\n",
      "  File \"C:\\Users\\DELL\\ALL ABOUT ME\\PROGRAMME\\Python\\lib\\site-packages\\pypot\\dynamixel\\io\\abstract_io.py\", line 486, in __real_send\n",
      "    nbytes = self._serial.write(data)\n",
      "  File \"C:\\Users\\DELL\\ALL ABOUT ME\\PROGRAMME\\Python\\lib\\site-packages\\serial\\serialwin32.py\", line 315, in write\n",
      "    raise SerialException(\"WriteFile failed ({!r})\".format(ctypes.WinError()))\n",
      "serial.serialutil.SerialException: WriteFile failed (PermissionError(13, 'The device does not recognize the command.', None, 22))\n",
      "\n",
      "Exception in thread Thread-21:\n",
      "Traceback (most recent call last):\n",
      "  File \"C:\\Users\\DELL\\ALL ABOUT ME\\PROGRAMME\\Python\\lib\\threading.py\", line 916, in _bootstrap_inner\n",
      "    self.run()\n",
      "  File \"C:\\Users\\DELL\\ALL ABOUT ME\\PROGRAMME\\Python\\lib\\threading.py\", line 864, in run\n",
      "    self._target(*self._args, **self._kwargs)\n",
      "  File \"C:\\Users\\DELL\\ALL ABOUT ME\\PROGRAMME\\Python\\lib\\site-packages\\pypot\\utils\\stoppablethread.py\", line 130, in _wrapped_target\n",
      "    self._target()\n",
      "  File \"C:\\Users\\DELL\\ALL ABOUT ME\\PROGRAMME\\Python\\lib\\site-packages\\pypot\\utils\\stoppablethread.py\", line 205, in run\n",
      "    make_update_loop(self, self._update)\n",
      "  File \"C:\\Users\\DELL\\ALL ABOUT ME\\PROGRAMME\\Python\\lib\\site-packages\\pypot\\utils\\stoppablethread.py\", line 175, in make_update_loop\n",
      "    update_func()\n",
      "  File \"C:\\Users\\DELL\\ALL ABOUT ME\\PROGRAMME\\Python\\lib\\site-packages\\pypot\\dynamixel\\controller.py\", line 59, in update\n",
      "    if self.mode == 'get' else\n",
      "  File \"C:\\Users\\DELL\\ALL ABOUT ME\\PROGRAMME\\Python\\lib\\site-packages\\pypot\\dynamixel\\controller.py\", line 72, in get_register\n",
      "    getter(ids))\n",
      "  File \"C:\\Users\\DELL\\ALL ABOUT ME\\PROGRAMME\\Python\\lib\\site-packages\\pypot\\dynamixel\\io\\abstract_io.py\", line 358, in my_getter\n",
      "    return self._get_control_value(control, ids, **kwargs)\n",
      "  File \"C:\\Users\\DELL\\ALL ABOUT ME\\PROGRAMME\\Python\\lib\\site-packages\\pypot\\dynamixel\\io\\abstract_io.py\", line 390, in _get_control_value\n",
      "    _force_lock=True)\n",
      "  File \"C:\\Users\\DELL\\ALL ABOUT ME\\PROGRAMME\\Python\\lib\\site-packages\\pypot\\dynamixel\\io\\abstract_io.py\", line 530, in _send_packet\n",
      "    sp = self.__real_send(instruction_packet, wait_for_status_packet, _force_lock)\n",
      "  File \"C:\\Users\\DELL\\ALL ABOUT ME\\PROGRAMME\\Python\\lib\\site-packages\\pypot\\dynamixel\\io\\abstract_io.py\", line 486, in __real_send\n",
      "    nbytes = self._serial.write(data)\n",
      "  File \"C:\\Users\\DELL\\ALL ABOUT ME\\PROGRAMME\\Python\\lib\\site-packages\\serial\\serialwin32.py\", line 315, in write\n",
      "    raise SerialException(\"WriteFile failed ({!r})\".format(ctypes.WinError()))\n",
      "serial.serialutil.SerialException: WriteFile failed (PermissionError(13, 'The device does not recognize the command.', None, 22))\n",
      "\n"
     ]
    }
   ],
   "source": [
    "for m in poppy.l_arm:\n",
    "    m.goal_position = 30."
   ]
  },
  {
   "cell_type": "code",
   "execution_count": 18,
   "metadata": {},
   "outputs": [],
   "source": [
    "for m in poppy.l_arm:\n",
    "    m.goal_position = 0"
   ]
  },
  {
   "cell_type": "code",
   "execution_count": 19,
   "metadata": {},
   "outputs": [],
   "source": [
    "for m in poppy.l_arm:\n",
    "    m.goal_position = 30."
   ]
  },
  {
   "cell_type": "code",
   "execution_count": 20,
   "metadata": {},
   "outputs": [],
   "source": [
    "for m in poppy.l_arm:\n",
    "    m.goal_position = 0"
   ]
  },
  {
   "cell_type": "code",
   "execution_count": 21,
   "metadata": {},
   "outputs": [],
   "source": [
    "poppy.head_z.goal_position = 90."
   ]
  },
  {
   "cell_type": "code",
   "execution_count": 22,
   "metadata": {},
   "outputs": [],
   "source": [
    "poppy.head_z.goal_position = 0"
   ]
  },
  {
   "cell_type": "code",
   "execution_count": 23,
   "metadata": {},
   "outputs": [],
   "source": [
    "\n",
    "poppy.reset_simulation()\n"
   ]
  },
  {
   "cell_type": "code",
   "execution_count": 24,
   "metadata": {},
   "outputs": [],
   "source": [
    "poppy.head_z.goto_position(-45, 2)"
   ]
  },
  {
   "cell_type": "code",
   "execution_count": 25,
   "metadata": {},
   "outputs": [],
   "source": [
    "poppy.head_z.goto_position(45, 2, wait=False)\n",
    "poppy.head_y.goto_position(-30, 2, wait=True)\n",
    "\n",
    "poppy.head_z.goto_position(0, 2, wait=True)\n",
    "\n",
    "poppy.head_y.goto_position(20, 1, wait=True)"
   ]
  },
  {
   "cell_type": "code",
   "execution_count": 26,
   "metadata": {},
   "outputs": [],
   "source": [
    "poppy.head_z.goto_position(45, 2, wait=False)\n",
    "poppy.head_y.goto_position(-30, 2, wait=True)\n",
    "\n",
    "poppy.head_z.goto_position(0, 2, wait=True)\n",
    "\n",
    "poppy.head_y.goto_position(20, 1, wait=True)"
   ]
  },
  {
   "cell_type": "code",
   "execution_count": 27,
   "metadata": {},
   "outputs": [],
   "source": [
    "poppy.head_z.goto_position(45, 2, wait=False)\n",
    "poppy.head_y.goto_position(-30, 2, wait=True)\n",
    "\n",
    "poppy.head_z.goto_position(0, 2, wait=True)\n",
    "\n",
    "poppy.head_y.goto_position(20, 1, wait=True)"
   ]
  },
  {
   "cell_type": "code",
   "execution_count": 28,
   "metadata": {},
   "outputs": [
    {
     "ename": "NameError",
     "evalue": "name 'config' is not defined",
     "output_type": "error",
     "traceback": [
      "\u001b[1;31m---------------------------------------------------------------------------\u001b[0m",
      "\u001b[1;31mNameError\u001b[0m                                 Traceback (most recent call last)",
      "\u001b[1;32m<ipython-input-28-2da107cb076a>\u001b[0m in \u001b[0;36m<module>\u001b[1;34m()\u001b[0m\n\u001b[0;32m      1\u001b[0m \u001b[1;32mimport\u001b[0m \u001b[0mpypot\u001b[0m\u001b[1;33m.\u001b[0m\u001b[0mvrep\u001b[0m\u001b[1;33m\u001b[0m\u001b[0m\n\u001b[0;32m      2\u001b[0m \u001b[1;33m\u001b[0m\u001b[0m\n\u001b[1;32m----> 3\u001b[1;33m \u001b[0mpoppy\u001b[0m \u001b[1;33m=\u001b[0m \u001b[0mpypot\u001b[0m\u001b[1;33m.\u001b[0m\u001b[0mvrep\u001b[0m\u001b[1;33m.\u001b[0m\u001b[0mfrom_vrep\u001b[0m\u001b[1;33m(\u001b[0m\u001b[0mconfig\u001b[0m\u001b[1;33m,\u001b[0m \u001b[0mvrep_host\u001b[0m\u001b[1;33m,\u001b[0m \u001b[0mvrep_port\u001b[0m\u001b[1;33m,\u001b[0m \u001b[0mvrep_scene\u001b[0m\u001b[1;33m)\u001b[0m\u001b[1;33m\u001b[0m\u001b[0m\n\u001b[0m\u001b[0;32m      4\u001b[0m \u001b[1;33m\u001b[0m\u001b[0m\n\u001b[0;32m      5\u001b[0m \u001b[0mpoppy\u001b[0m\u001b[1;33m.\u001b[0m\u001b[0mwalk\u001b[0m\u001b[1;33m.\u001b[0m\u001b[0mstart\u001b[0m\u001b[1;33m(\u001b[0m\u001b[1;33m)\u001b[0m\u001b[1;33m\u001b[0m\u001b[0m\n",
      "\u001b[1;31mNameError\u001b[0m: name 'config' is not defined"
     ]
    }
   ],
   "source": [
    "import pypot.vrep\n",
    "\n",
    "poppy = pypot.vrep.from_vrep(config, vrep_host, vrep_port, vrep_scene)\n",
    "\n",
    "poppy.walk.start()"
   ]
  },
  {
   "cell_type": "code",
   "execution_count": 29,
   "metadata": {},
   "outputs": [
    {
     "ename": "AttributeError",
     "evalue": "'Robot' object has no attribute 'walk'",
     "output_type": "error",
     "traceback": [
      "\u001b[1;31m---------------------------------------------------------------------------\u001b[0m",
      "\u001b[1;31mAttributeError\u001b[0m                            Traceback (most recent call last)",
      "\u001b[1;32m<ipython-input-29-3df277a47537>\u001b[0m in \u001b[0;36m<module>\u001b[1;34m()\u001b[0m\n\u001b[1;32m----> 1\u001b[1;33m \u001b[0mpoppy\u001b[0m\u001b[1;33m.\u001b[0m\u001b[0mwalk\u001b[0m\u001b[1;33m.\u001b[0m\u001b[0mstart\u001b[0m\u001b[1;33m(\u001b[0m\u001b[1;33m)\u001b[0m\u001b[1;33m\u001b[0m\u001b[0m\n\u001b[0m",
      "\u001b[1;31mAttributeError\u001b[0m: 'Robot' object has no attribute 'walk'"
     ]
    }
   ],
   "source": [
    "poppy.walk.start()"
   ]
  },
  {
   "cell_type": "code",
   "execution_count": 8,
   "metadata": {},
   "outputs": [
    {
     "ename": "NameError",
     "evalue": "name 'poppy' is not defined",
     "output_type": "error",
     "traceback": [
      "\u001b[1;31m---------------------------------------------------------------------------\u001b[0m",
      "\u001b[1;31mNameError\u001b[0m                                 Traceback (most recent call last)",
      "\u001b[1;32m<ipython-input-8-e878c474fbfd>\u001b[0m in \u001b[0;36m<module>\u001b[1;34m()\u001b[0m\n\u001b[1;32m----> 1\u001b[1;33m \u001b[0mpoppy\u001b[0m\u001b[1;33m.\u001b[0m\u001b[0mr_shoulder_x\u001b[0m\u001b[1;33m.\u001b[0m\u001b[0mgoal_position\u001b[0m \u001b[1;33m=\u001b[0m \u001b[1;36m30\u001b[0m\u001b[1;33m\u001b[0m\u001b[0m\n\u001b[0m\u001b[0;32m      2\u001b[0m \u001b[0mpoppy\u001b[0m\u001b[1;33m.\u001b[0m\u001b[0mr_shoulder_x\u001b[0m\u001b[1;33m.\u001b[0m\u001b[0mgoal_position\u001b[0m \u001b[1;33m=\u001b[0m \u001b[1;33m-\u001b[0m\u001b[1;36m30\u001b[0m\u001b[1;33m\u001b[0m\u001b[0m\n",
      "\u001b[1;31mNameError\u001b[0m: name 'poppy' is not defined"
     ]
    }
   ],
   "source": [
    "poppy.r_shoulder_x.goal_position = 30\n",
    "poppy.r_shoulder_x.goal_position = -30"
   ]
  },
  {
   "cell_type": "code",
   "execution_count": null,
   "metadata": {},
   "outputs": [],
   "source": []
  },
  {
   "cell_type": "code",
   "execution_count": 31,
   "metadata": {},
   "outputs": [
    {
     "data": {
      "text/plain": [
       "'dummy'"
      ]
     },
     "execution_count": 31,
     "metadata": {},
     "output_type": "execute_result"
    }
   ],
   "source": [
    "poppy.head_y.goto_behavior"
   ]
  },
  {
   "cell_type": "code",
   "execution_count": 32,
   "metadata": {},
   "outputs": [],
   "source": [
    "poppy.r_shoulder_x.goto_position(45, 2, wait=False)\n",
    "poppy.r_shoulder_y.goto_position(-30, 2, wait=True)\n",
    "\n",
    "poppy.r_shoulder_x.goto_position(0, 2, wait=True)\n",
    "\n",
    "poppy.r_shoulder_y.goto_position(20, 1, wait=True)"
   ]
  },
  {
   "cell_type": "code",
   "execution_count": null,
   "metadata": {},
   "outputs": [],
   "source": []
  },
  {
   "cell_type": "code",
   "execution_count": 7,
   "metadata": {},
   "outputs": [
    {
     "ename": "NameError",
     "evalue": "name 'poppy' is not defined",
     "output_type": "error",
     "traceback": [
      "\u001b[1;31m---------------------------------------------------------------------------\u001b[0m",
      "\u001b[1;31mNameError\u001b[0m                                 Traceback (most recent call last)",
      "\u001b[1;32m<ipython-input-7-9ca81f709851>\u001b[0m in \u001b[0;36m<module>\u001b[1;34m()\u001b[0m\n\u001b[1;32m----> 1\u001b[1;33m \u001b[0mpoppy\u001b[0m\u001b[1;33m.\u001b[0m\u001b[0mr_shoulder_x\u001b[0m\u001b[1;33m.\u001b[0m\u001b[0mgoto_position\u001b[0m\u001b[1;33m(\u001b[0m\u001b[1;36m180\u001b[0m\u001b[1;33m,\u001b[0m \u001b[1;36m2\u001b[0m\u001b[1;33m,\u001b[0m \u001b[0mwait\u001b[0m\u001b[1;33m=\u001b[0m\u001b[1;32mFalse\u001b[0m\u001b[1;33m)\u001b[0m\u001b[1;33m\u001b[0m\u001b[0m\n\u001b[0m\u001b[0;32m      2\u001b[0m \u001b[0mpoppy\u001b[0m\u001b[1;33m.\u001b[0m\u001b[0mr_shoulder_y\u001b[0m\u001b[1;33m.\u001b[0m\u001b[0mgoto_position\u001b[0m\u001b[1;33m(\u001b[0m\u001b[1;36m30\u001b[0m\u001b[1;33m,\u001b[0m \u001b[1;36m2\u001b[0m\u001b[1;33m,\u001b[0m \u001b[0mwait\u001b[0m\u001b[1;33m=\u001b[0m\u001b[1;32mTrue\u001b[0m\u001b[1;33m)\u001b[0m\u001b[1;33m\u001b[0m\u001b[0m\n\u001b[0;32m      3\u001b[0m \u001b[1;33m\u001b[0m\u001b[0m\n\u001b[0;32m      4\u001b[0m \u001b[0mpoppy\u001b[0m\u001b[1;33m.\u001b[0m\u001b[0mr_shoulder_x\u001b[0m\u001b[1;33m.\u001b[0m\u001b[0mgoto_position\u001b[0m\u001b[1;33m(\u001b[0m\u001b[1;36m30\u001b[0m\u001b[1;33m,\u001b[0m \u001b[1;36m2\u001b[0m\u001b[1;33m,\u001b[0m \u001b[0mwait\u001b[0m\u001b[1;33m=\u001b[0m\u001b[1;32mTrue\u001b[0m\u001b[1;33m)\u001b[0m\u001b[1;33m\u001b[0m\u001b[0m\n\u001b[0;32m      5\u001b[0m \u001b[1;33m\u001b[0m\u001b[0m\n",
      "\u001b[1;31mNameError\u001b[0m: name 'poppy' is not defined"
     ]
    }
   ],
   "source": [
    "poppy.r_shoulder_x.goto_position(180, 2, wait=False)\n",
    "poppy.r_shoulder_y.goto_position(30, 2, wait=True)\n",
    "\n",
    "poppy.r_shoulder_x.goto_position(30, 2, wait=True)\n",
    "\n",
    "poppy.r_shoulder_y.goto_position(-10, 1, wait=True)"
   ]
  },
  {
   "cell_type": "code",
   "execution_count": 6,
   "metadata": {},
   "outputs": [
    {
     "ename": "NameError",
     "evalue": "name 'poppy' is not defined",
     "output_type": "error",
     "traceback": [
      "\u001b[1;31m---------------------------------------------------------------------------\u001b[0m",
      "\u001b[1;31mNameError\u001b[0m                                 Traceback (most recent call last)",
      "\u001b[1;32m<ipython-input-6-fe91a11a1d44>\u001b[0m in \u001b[0;36m<module>\u001b[1;34m()\u001b[0m\n\u001b[1;32m----> 1\u001b[1;33m \u001b[0mpoppy\u001b[0m\u001b[1;33m.\u001b[0m\u001b[0mr_shoulder_z\u001b[0m\u001b[1;33m.\u001b[0m\u001b[0mgoto_position\u001b[0m\u001b[1;33m(\u001b[0m\u001b[1;36m180\u001b[0m\u001b[1;33m,\u001b[0m \u001b[1;36m2\u001b[0m\u001b[1;33m,\u001b[0m \u001b[0mwait\u001b[0m\u001b[1;33m=\u001b[0m\u001b[1;32mFalse\u001b[0m\u001b[1;33m)\u001b[0m\u001b[1;33m\u001b[0m\u001b[0m\n\u001b[0m\u001b[0;32m      2\u001b[0m \u001b[0mpoppy\u001b[0m\u001b[1;33m.\u001b[0m\u001b[0mr_shoulder_x\u001b[0m\u001b[1;33m.\u001b[0m\u001b[0mgoto_position\u001b[0m\u001b[1;33m(\u001b[0m\u001b[1;36m100\u001b[0m\u001b[1;33m,\u001b[0m \u001b[1;36m2\u001b[0m\u001b[1;33m,\u001b[0m \u001b[0mwait\u001b[0m\u001b[1;33m=\u001b[0m\u001b[1;32mTrue\u001b[0m\u001b[1;33m)\u001b[0m\u001b[1;33m\u001b[0m\u001b[0m\n\u001b[0;32m      3\u001b[0m \u001b[1;33m\u001b[0m\u001b[0m\n\u001b[0;32m      4\u001b[0m \u001b[0mpoppy\u001b[0m\u001b[1;33m.\u001b[0m\u001b[0mr_shoulder_x\u001b[0m\u001b[1;33m.\u001b[0m\u001b[0mgoto_position\u001b[0m\u001b[1;33m(\u001b[0m\u001b[1;36m30\u001b[0m\u001b[1;33m,\u001b[0m \u001b[1;36m2\u001b[0m\u001b[1;33m,\u001b[0m \u001b[0mwait\u001b[0m\u001b[1;33m=\u001b[0m\u001b[1;32mTrue\u001b[0m\u001b[1;33m)\u001b[0m\u001b[1;33m\u001b[0m\u001b[0m\n\u001b[0;32m      5\u001b[0m \u001b[1;33m\u001b[0m\u001b[0m\n",
      "\u001b[1;31mNameError\u001b[0m: name 'poppy' is not defined"
     ]
    }
   ],
   "source": [
    "poppy.r_shoulder_z.goto_position(180, 2, wait=False)\n",
    "poppy.r_shoulder_x.goto_position(100, 2, wait=True)\n",
    "\n",
    "poppy.r_shoulder_x.goto_position(30, 2, wait=True)\n",
    "\n",
    "poppy.r_shoulder_y.goto_position(0, 1, wait=True)\n"
   ]
  },
  {
   "cell_type": "code",
   "execution_count": 44,
   "metadata": {},
   "outputs": [
    {
     "name": "stderr",
     "output_type": "stream",
     "text": [
      "Exception in thread Thread-8:\n",
      "Traceback (most recent call last):\n",
      "  File \"C:\\Users\\DELL\\ALL ABOUT ME\\PROGRAMME\\Python\\lib\\threading.py\", line 916, in _bootstrap_inner\n",
      "    self.run()\n",
      "  File \"C:\\Users\\DELL\\ALL ABOUT ME\\PROGRAMME\\Python\\lib\\threading.py\", line 864, in run\n",
      "    self._target(*self._args, **self._kwargs)\n",
      "  File \"C:\\Users\\DELL\\ALL ABOUT ME\\PROGRAMME\\Python\\lib\\site-packages\\pypot\\utils\\stoppablethread.py\", line 130, in _wrapped_target\n",
      "    self._target()\n",
      "  File \"C:\\Users\\DELL\\ALL ABOUT ME\\PROGRAMME\\Python\\lib\\site-packages\\pypot\\utils\\stoppablethread.py\", line 205, in run\n",
      "    make_update_loop(self, self._update)\n",
      "  File \"C:\\Users\\DELL\\ALL ABOUT ME\\PROGRAMME\\Python\\lib\\site-packages\\pypot\\utils\\stoppablethread.py\", line 183, in make_update_loop\n",
      "    time.sleep(dt)\n",
      "  File \"C:\\Users\\DELL\\ALL ABOUT ME\\PROGRAMME\\Python\\lib\\site-packages\\pypot\\vrep\\__init__.py\", line 46, in sleep\n",
      "    while (self.get_time() - t0) < t:\n",
      "  File \"C:\\Users\\DELL\\ALL ABOUT ME\\PROGRAMME\\Python\\lib\\site-packages\\pypot\\vrep\\__init__.py\", line 33, in get_time\n",
      "    return self.get_time(trial + 1)\n",
      "  File \"C:\\Users\\DELL\\ALL ABOUT ME\\PROGRAMME\\Python\\lib\\site-packages\\pypot\\vrep\\__init__.py\", line 33, in get_time\n",
      "    return self.get_time(trial + 1)\n",
      "  File \"C:\\Users\\DELL\\ALL ABOUT ME\\PROGRAMME\\Python\\lib\\site-packages\\pypot\\vrep\\__init__.py\", line 33, in get_time\n",
      "    return self.get_time(trial + 1)\n",
      "  [Previous line repeated 42 more times]\n",
      "  File \"C:\\Users\\DELL\\ALL ABOUT ME\\PROGRAMME\\Python\\lib\\site-packages\\pypot\\vrep\\__init__.py\", line 36, in get_time\n",
      "    raise EnvironmentError('Could not get current simulation time. Make sure the V-REP simulation is running. And that you have added the \"time\" child script to your scene.')\n",
      "OSError: Could not get current simulation time. Make sure the V-REP simulation is running. And that you have added the \"time\" child script to your scene.\n",
      "Exception in thread Thread-7:\n",
      "Traceback (most recent call last):\n",
      "  File \"C:\\Users\\DELL\\ALL ABOUT ME\\PROGRAMME\\Python\\lib\\threading.py\", line 916, in _bootstrap_inner\n",
      "    self.run()\n",
      "  File \"C:\\Users\\DELL\\ALL ABOUT ME\\PROGRAMME\\Python\\lib\\threading.py\", line 864, in run\n",
      "    self._target(*self._args, **self._kwargs)\n",
      "  File \"C:\\Users\\DELL\\ALL ABOUT ME\\PROGRAMME\\Python\\lib\\site-packages\\pypot\\utils\\stoppablethread.py\", line 130, in _wrapped_target\n",
      "    self._target()\n",
      "  File \"C:\\Users\\DELL\\ALL ABOUT ME\\PROGRAMME\\Python\\lib\\site-packages\\pypot\\utils\\stoppablethread.py\", line 205, in run\n",
      "    make_update_loop(self, self._update)\n",
      "  File \"C:\\Users\\DELL\\ALL ABOUT ME\\PROGRAMME\\Python\\lib\\site-packages\\pypot\\utils\\stoppablethread.py\", line 183, in make_update_loop\n",
      "    time.sleep(dt)\n",
      "  File \"C:\\Users\\DELL\\ALL ABOUT ME\\PROGRAMME\\Python\\lib\\site-packages\\pypot\\vrep\\__init__.py\", line 46, in sleep\n",
      "    while (self.get_time() - t0) < t:\n",
      "  File \"C:\\Users\\DELL\\ALL ABOUT ME\\PROGRAMME\\Python\\lib\\site-packages\\pypot\\vrep\\__init__.py\", line 33, in get_time\n",
      "    return self.get_time(trial + 1)\n",
      "  File \"C:\\Users\\DELL\\ALL ABOUT ME\\PROGRAMME\\Python\\lib\\site-packages\\pypot\\vrep\\__init__.py\", line 33, in get_time\n",
      "    return self.get_time(trial + 1)\n",
      "  File \"C:\\Users\\DELL\\ALL ABOUT ME\\PROGRAMME\\Python\\lib\\site-packages\\pypot\\vrep\\__init__.py\", line 33, in get_time\n",
      "    return self.get_time(trial + 1)\n",
      "  [Previous line repeated 42 more times]\n",
      "  File \"C:\\Users\\DELL\\ALL ABOUT ME\\PROGRAMME\\Python\\lib\\site-packages\\pypot\\vrep\\__init__.py\", line 36, in get_time\n",
      "    raise EnvironmentError('Could not get current simulation time. Make sure the V-REP simulation is running. And that you have added the \"time\" child script to your scene.')\n",
      "OSError: Could not get current simulation time. Make sure the V-REP simulation is running. And that you have added the \"time\" child script to your scene.\n",
      "\n",
      "\n"
     ]
    },
    {
     "ename": "OSError",
     "evalue": "Could not get current simulation time. Make sure the V-REP simulation is running. And that you have added the \"time\" child script to your scene.",
     "output_type": "error",
     "traceback": [
      "\u001b[1;31m---------------------------------------------------------------------------\u001b[0m",
      "\u001b[1;31mOSError\u001b[0m                                   Traceback (most recent call last)",
      "\u001b[1;32m<ipython-input-44-9ca81f709851>\u001b[0m in \u001b[0;36m<module>\u001b[1;34m()\u001b[0m\n\u001b[0;32m      1\u001b[0m \u001b[0mpoppy\u001b[0m\u001b[1;33m.\u001b[0m\u001b[0mr_shoulder_x\u001b[0m\u001b[1;33m.\u001b[0m\u001b[0mgoto_position\u001b[0m\u001b[1;33m(\u001b[0m\u001b[1;36m180\u001b[0m\u001b[1;33m,\u001b[0m \u001b[1;36m2\u001b[0m\u001b[1;33m,\u001b[0m \u001b[0mwait\u001b[0m\u001b[1;33m=\u001b[0m\u001b[1;32mFalse\u001b[0m\u001b[1;33m)\u001b[0m\u001b[1;33m\u001b[0m\u001b[0m\n\u001b[1;32m----> 2\u001b[1;33m \u001b[0mpoppy\u001b[0m\u001b[1;33m.\u001b[0m\u001b[0mr_shoulder_y\u001b[0m\u001b[1;33m.\u001b[0m\u001b[0mgoto_position\u001b[0m\u001b[1;33m(\u001b[0m\u001b[1;36m30\u001b[0m\u001b[1;33m,\u001b[0m \u001b[1;36m2\u001b[0m\u001b[1;33m,\u001b[0m \u001b[0mwait\u001b[0m\u001b[1;33m=\u001b[0m\u001b[1;32mTrue\u001b[0m\u001b[1;33m)\u001b[0m\u001b[1;33m\u001b[0m\u001b[0m\n\u001b[0m\u001b[0;32m      3\u001b[0m \u001b[1;33m\u001b[0m\u001b[0m\n\u001b[0;32m      4\u001b[0m \u001b[0mpoppy\u001b[0m\u001b[1;33m.\u001b[0m\u001b[0mr_shoulder_x\u001b[0m\u001b[1;33m.\u001b[0m\u001b[0mgoto_position\u001b[0m\u001b[1;33m(\u001b[0m\u001b[1;36m30\u001b[0m\u001b[1;33m,\u001b[0m \u001b[1;36m2\u001b[0m\u001b[1;33m,\u001b[0m \u001b[0mwait\u001b[0m\u001b[1;33m=\u001b[0m\u001b[1;32mTrue\u001b[0m\u001b[1;33m)\u001b[0m\u001b[1;33m\u001b[0m\u001b[0m\n\u001b[0;32m      5\u001b[0m \u001b[1;33m\u001b[0m\u001b[0m\n",
      "\u001b[1;32m~\\ALL ABOUT ME\\PROGRAMME\\Python\\lib\\site-packages\\pypot\\dynamixel\\motor.py\u001b[0m in \u001b[0;36mgoto_position\u001b[1;34m(self, position, duration, control, wait)\u001b[0m\n\u001b[0;32m    261\u001b[0m \u001b[1;33m\u001b[0m\u001b[0m\n\u001b[0;32m    262\u001b[0m             \u001b[1;32mif\u001b[0m \u001b[0mwait\u001b[0m\u001b[1;33m:\u001b[0m\u001b[1;33m\u001b[0m\u001b[0m\n\u001b[1;32m--> 263\u001b[1;33m                 \u001b[0mtime\u001b[0m\u001b[1;33m.\u001b[0m\u001b[0msleep\u001b[0m\u001b[1;33m(\u001b[0m\u001b[0mduration\u001b[0m\u001b[1;33m)\u001b[0m\u001b[1;33m\u001b[0m\u001b[0m\n\u001b[0m\u001b[0;32m    264\u001b[0m \u001b[1;33m\u001b[0m\u001b[0m\n\u001b[0;32m    265\u001b[0m \u001b[1;33m\u001b[0m\u001b[0m\n",
      "\u001b[1;32m~\\ALL ABOUT ME\\PROGRAMME\\Python\\lib\\site-packages\\pypot\\vrep\\__init__.py\u001b[0m in \u001b[0;36msleep\u001b[1;34m(self, t)\u001b[0m\n\u001b[0;32m     43\u001b[0m             \u001b[0mt\u001b[0m \u001b[1;33m=\u001b[0m \u001b[1;36m1\u001b[0m\u001b[1;33m\u001b[0m\u001b[0m\n\u001b[0;32m     44\u001b[0m \u001b[1;33m\u001b[0m\u001b[0m\n\u001b[1;32m---> 45\u001b[1;33m         \u001b[0mt0\u001b[0m \u001b[1;33m=\u001b[0m \u001b[0mself\u001b[0m\u001b[1;33m.\u001b[0m\u001b[0mget_time\u001b[0m\u001b[1;33m(\u001b[0m\u001b[1;33m)\u001b[0m\u001b[1;33m\u001b[0m\u001b[0m\n\u001b[0m\u001b[0;32m     46\u001b[0m         \u001b[1;32mwhile\u001b[0m \u001b[1;33m(\u001b[0m\u001b[0mself\u001b[0m\u001b[1;33m.\u001b[0m\u001b[0mget_time\u001b[0m\u001b[1;33m(\u001b[0m\u001b[1;33m)\u001b[0m \u001b[1;33m-\u001b[0m \u001b[0mt0\u001b[0m\u001b[1;33m)\u001b[0m \u001b[1;33m<\u001b[0m \u001b[0mt\u001b[0m\u001b[1;33m:\u001b[0m\u001b[1;33m\u001b[0m\u001b[0m\n\u001b[0;32m     47\u001b[0m             \u001b[1;32mif\u001b[0m \u001b[0mself\u001b[0m\u001b[1;33m.\u001b[0m\u001b[0mget_time\u001b[0m\u001b[1;33m(\u001b[0m\u001b[1;33m)\u001b[0m \u001b[1;33m<\u001b[0m \u001b[0mt0\u001b[0m\u001b[1;33m:\u001b[0m\u001b[1;33m\u001b[0m\u001b[0m\n",
      "\u001b[1;32m~\\ALL ABOUT ME\\PROGRAMME\\Python\\lib\\site-packages\\pypot\\vrep\\__init__.py\u001b[0m in \u001b[0;36mget_time\u001b[1;34m(self, trial)\u001b[0m\n\u001b[0;32m     31\u001b[0m         \u001b[1;32mif\u001b[0m \u001b[0mt\u001b[0m \u001b[1;33m==\u001b[0m \u001b[1;36m0\u001b[0m\u001b[1;33m:\u001b[0m\u001b[1;33m\u001b[0m\u001b[0m\n\u001b[0;32m     32\u001b[0m             \u001b[0msys_time\u001b[0m\u001b[1;33m.\u001b[0m\u001b[0msleep\u001b[0m\u001b[1;33m(\u001b[0m\u001b[1;36m.5\u001b[0m\u001b[1;33m)\u001b[0m\u001b[1;33m\u001b[0m\u001b[0m\n\u001b[1;32m---> 33\u001b[1;33m             \u001b[1;32mreturn\u001b[0m \u001b[0mself\u001b[0m\u001b[1;33m.\u001b[0m\u001b[0mget_time\u001b[0m\u001b[1;33m(\u001b[0m\u001b[0mtrial\u001b[0m \u001b[1;33m+\u001b[0m \u001b[1;36m1\u001b[0m\u001b[1;33m)\u001b[0m\u001b[1;33m\u001b[0m\u001b[0m\n\u001b[0m\u001b[0;32m     34\u001b[0m \u001b[1;33m\u001b[0m\u001b[0m\n\u001b[0;32m     35\u001b[0m         \u001b[1;32mif\u001b[0m \u001b[0mtrial\u001b[0m \u001b[1;33m>\u001b[0m \u001b[1;36m10\u001b[0m\u001b[1;33m:\u001b[0m\u001b[1;33m\u001b[0m\u001b[0m\n",
      "\u001b[1;32m~\\ALL ABOUT ME\\PROGRAMME\\Python\\lib\\site-packages\\pypot\\vrep\\__init__.py\u001b[0m in \u001b[0;36mget_time\u001b[1;34m(self, trial)\u001b[0m\n\u001b[0;32m     31\u001b[0m         \u001b[1;32mif\u001b[0m \u001b[0mt\u001b[0m \u001b[1;33m==\u001b[0m \u001b[1;36m0\u001b[0m\u001b[1;33m:\u001b[0m\u001b[1;33m\u001b[0m\u001b[0m\n\u001b[0;32m     32\u001b[0m             \u001b[0msys_time\u001b[0m\u001b[1;33m.\u001b[0m\u001b[0msleep\u001b[0m\u001b[1;33m(\u001b[0m\u001b[1;36m.5\u001b[0m\u001b[1;33m)\u001b[0m\u001b[1;33m\u001b[0m\u001b[0m\n\u001b[1;32m---> 33\u001b[1;33m             \u001b[1;32mreturn\u001b[0m \u001b[0mself\u001b[0m\u001b[1;33m.\u001b[0m\u001b[0mget_time\u001b[0m\u001b[1;33m(\u001b[0m\u001b[0mtrial\u001b[0m \u001b[1;33m+\u001b[0m \u001b[1;36m1\u001b[0m\u001b[1;33m)\u001b[0m\u001b[1;33m\u001b[0m\u001b[0m\n\u001b[0m\u001b[0;32m     34\u001b[0m \u001b[1;33m\u001b[0m\u001b[0m\n\u001b[0;32m     35\u001b[0m         \u001b[1;32mif\u001b[0m \u001b[0mtrial\u001b[0m \u001b[1;33m>\u001b[0m \u001b[1;36m10\u001b[0m\u001b[1;33m:\u001b[0m\u001b[1;33m\u001b[0m\u001b[0m\n",
      "\u001b[1;32m~\\ALL ABOUT ME\\PROGRAMME\\Python\\lib\\site-packages\\pypot\\vrep\\__init__.py\u001b[0m in \u001b[0;36mget_time\u001b[1;34m(self, trial)\u001b[0m\n\u001b[0;32m     31\u001b[0m         \u001b[1;32mif\u001b[0m \u001b[0mt\u001b[0m \u001b[1;33m==\u001b[0m \u001b[1;36m0\u001b[0m\u001b[1;33m:\u001b[0m\u001b[1;33m\u001b[0m\u001b[0m\n\u001b[0;32m     32\u001b[0m             \u001b[0msys_time\u001b[0m\u001b[1;33m.\u001b[0m\u001b[0msleep\u001b[0m\u001b[1;33m(\u001b[0m\u001b[1;36m.5\u001b[0m\u001b[1;33m)\u001b[0m\u001b[1;33m\u001b[0m\u001b[0m\n\u001b[1;32m---> 33\u001b[1;33m             \u001b[1;32mreturn\u001b[0m \u001b[0mself\u001b[0m\u001b[1;33m.\u001b[0m\u001b[0mget_time\u001b[0m\u001b[1;33m(\u001b[0m\u001b[0mtrial\u001b[0m \u001b[1;33m+\u001b[0m \u001b[1;36m1\u001b[0m\u001b[1;33m)\u001b[0m\u001b[1;33m\u001b[0m\u001b[0m\n\u001b[0m\u001b[0;32m     34\u001b[0m \u001b[1;33m\u001b[0m\u001b[0m\n\u001b[0;32m     35\u001b[0m         \u001b[1;32mif\u001b[0m \u001b[0mtrial\u001b[0m \u001b[1;33m>\u001b[0m \u001b[1;36m10\u001b[0m\u001b[1;33m:\u001b[0m\u001b[1;33m\u001b[0m\u001b[0m\n",
      "\u001b[1;32m~\\ALL ABOUT ME\\PROGRAMME\\Python\\lib\\site-packages\\pypot\\vrep\\__init__.py\u001b[0m in \u001b[0;36mget_time\u001b[1;34m(self, trial)\u001b[0m\n\u001b[0;32m     31\u001b[0m         \u001b[1;32mif\u001b[0m \u001b[0mt\u001b[0m \u001b[1;33m==\u001b[0m \u001b[1;36m0\u001b[0m\u001b[1;33m:\u001b[0m\u001b[1;33m\u001b[0m\u001b[0m\n\u001b[0;32m     32\u001b[0m             \u001b[0msys_time\u001b[0m\u001b[1;33m.\u001b[0m\u001b[0msleep\u001b[0m\u001b[1;33m(\u001b[0m\u001b[1;36m.5\u001b[0m\u001b[1;33m)\u001b[0m\u001b[1;33m\u001b[0m\u001b[0m\n\u001b[1;32m---> 33\u001b[1;33m             \u001b[1;32mreturn\u001b[0m \u001b[0mself\u001b[0m\u001b[1;33m.\u001b[0m\u001b[0mget_time\u001b[0m\u001b[1;33m(\u001b[0m\u001b[0mtrial\u001b[0m \u001b[1;33m+\u001b[0m \u001b[1;36m1\u001b[0m\u001b[1;33m)\u001b[0m\u001b[1;33m\u001b[0m\u001b[0m\n\u001b[0m\u001b[0;32m     34\u001b[0m \u001b[1;33m\u001b[0m\u001b[0m\n\u001b[0;32m     35\u001b[0m         \u001b[1;32mif\u001b[0m \u001b[0mtrial\u001b[0m \u001b[1;33m>\u001b[0m \u001b[1;36m10\u001b[0m\u001b[1;33m:\u001b[0m\u001b[1;33m\u001b[0m\u001b[0m\n",
      "\u001b[1;32m~\\ALL ABOUT ME\\PROGRAMME\\Python\\lib\\site-packages\\pypot\\vrep\\__init__.py\u001b[0m in \u001b[0;36mget_time\u001b[1;34m(self, trial)\u001b[0m\n\u001b[0;32m     31\u001b[0m         \u001b[1;32mif\u001b[0m \u001b[0mt\u001b[0m \u001b[1;33m==\u001b[0m \u001b[1;36m0\u001b[0m\u001b[1;33m:\u001b[0m\u001b[1;33m\u001b[0m\u001b[0m\n\u001b[0;32m     32\u001b[0m             \u001b[0msys_time\u001b[0m\u001b[1;33m.\u001b[0m\u001b[0msleep\u001b[0m\u001b[1;33m(\u001b[0m\u001b[1;36m.5\u001b[0m\u001b[1;33m)\u001b[0m\u001b[1;33m\u001b[0m\u001b[0m\n\u001b[1;32m---> 33\u001b[1;33m             \u001b[1;32mreturn\u001b[0m \u001b[0mself\u001b[0m\u001b[1;33m.\u001b[0m\u001b[0mget_time\u001b[0m\u001b[1;33m(\u001b[0m\u001b[0mtrial\u001b[0m \u001b[1;33m+\u001b[0m \u001b[1;36m1\u001b[0m\u001b[1;33m)\u001b[0m\u001b[1;33m\u001b[0m\u001b[0m\n\u001b[0m\u001b[0;32m     34\u001b[0m \u001b[1;33m\u001b[0m\u001b[0m\n\u001b[0;32m     35\u001b[0m         \u001b[1;32mif\u001b[0m \u001b[0mtrial\u001b[0m \u001b[1;33m>\u001b[0m \u001b[1;36m10\u001b[0m\u001b[1;33m:\u001b[0m\u001b[1;33m\u001b[0m\u001b[0m\n",
      "\u001b[1;32m~\\ALL ABOUT ME\\PROGRAMME\\Python\\lib\\site-packages\\pypot\\vrep\\__init__.py\u001b[0m in \u001b[0;36mget_time\u001b[1;34m(self, trial)\u001b[0m\n\u001b[0;32m     31\u001b[0m         \u001b[1;32mif\u001b[0m \u001b[0mt\u001b[0m \u001b[1;33m==\u001b[0m \u001b[1;36m0\u001b[0m\u001b[1;33m:\u001b[0m\u001b[1;33m\u001b[0m\u001b[0m\n\u001b[0;32m     32\u001b[0m             \u001b[0msys_time\u001b[0m\u001b[1;33m.\u001b[0m\u001b[0msleep\u001b[0m\u001b[1;33m(\u001b[0m\u001b[1;36m.5\u001b[0m\u001b[1;33m)\u001b[0m\u001b[1;33m\u001b[0m\u001b[0m\n\u001b[1;32m---> 33\u001b[1;33m             \u001b[1;32mreturn\u001b[0m \u001b[0mself\u001b[0m\u001b[1;33m.\u001b[0m\u001b[0mget_time\u001b[0m\u001b[1;33m(\u001b[0m\u001b[0mtrial\u001b[0m \u001b[1;33m+\u001b[0m \u001b[1;36m1\u001b[0m\u001b[1;33m)\u001b[0m\u001b[1;33m\u001b[0m\u001b[0m\n\u001b[0m\u001b[0;32m     34\u001b[0m \u001b[1;33m\u001b[0m\u001b[0m\n\u001b[0;32m     35\u001b[0m         \u001b[1;32mif\u001b[0m \u001b[0mtrial\u001b[0m \u001b[1;33m>\u001b[0m \u001b[1;36m10\u001b[0m\u001b[1;33m:\u001b[0m\u001b[1;33m\u001b[0m\u001b[0m\n",
      "\u001b[1;32m~\\ALL ABOUT ME\\PROGRAMME\\Python\\lib\\site-packages\\pypot\\vrep\\__init__.py\u001b[0m in \u001b[0;36mget_time\u001b[1;34m(self, trial)\u001b[0m\n\u001b[0;32m     31\u001b[0m         \u001b[1;32mif\u001b[0m \u001b[0mt\u001b[0m \u001b[1;33m==\u001b[0m \u001b[1;36m0\u001b[0m\u001b[1;33m:\u001b[0m\u001b[1;33m\u001b[0m\u001b[0m\n\u001b[0;32m     32\u001b[0m             \u001b[0msys_time\u001b[0m\u001b[1;33m.\u001b[0m\u001b[0msleep\u001b[0m\u001b[1;33m(\u001b[0m\u001b[1;36m.5\u001b[0m\u001b[1;33m)\u001b[0m\u001b[1;33m\u001b[0m\u001b[0m\n\u001b[1;32m---> 33\u001b[1;33m             \u001b[1;32mreturn\u001b[0m \u001b[0mself\u001b[0m\u001b[1;33m.\u001b[0m\u001b[0mget_time\u001b[0m\u001b[1;33m(\u001b[0m\u001b[0mtrial\u001b[0m \u001b[1;33m+\u001b[0m \u001b[1;36m1\u001b[0m\u001b[1;33m)\u001b[0m\u001b[1;33m\u001b[0m\u001b[0m\n\u001b[0m\u001b[0;32m     34\u001b[0m \u001b[1;33m\u001b[0m\u001b[0m\n\u001b[0;32m     35\u001b[0m         \u001b[1;32mif\u001b[0m \u001b[0mtrial\u001b[0m \u001b[1;33m>\u001b[0m \u001b[1;36m10\u001b[0m\u001b[1;33m:\u001b[0m\u001b[1;33m\u001b[0m\u001b[0m\n",
      "\u001b[1;32m~\\ALL ABOUT ME\\PROGRAMME\\Python\\lib\\site-packages\\pypot\\vrep\\__init__.py\u001b[0m in \u001b[0;36mget_time\u001b[1;34m(self, trial)\u001b[0m\n\u001b[0;32m     31\u001b[0m         \u001b[1;32mif\u001b[0m \u001b[0mt\u001b[0m \u001b[1;33m==\u001b[0m \u001b[1;36m0\u001b[0m\u001b[1;33m:\u001b[0m\u001b[1;33m\u001b[0m\u001b[0m\n\u001b[0;32m     32\u001b[0m             \u001b[0msys_time\u001b[0m\u001b[1;33m.\u001b[0m\u001b[0msleep\u001b[0m\u001b[1;33m(\u001b[0m\u001b[1;36m.5\u001b[0m\u001b[1;33m)\u001b[0m\u001b[1;33m\u001b[0m\u001b[0m\n\u001b[1;32m---> 33\u001b[1;33m             \u001b[1;32mreturn\u001b[0m \u001b[0mself\u001b[0m\u001b[1;33m.\u001b[0m\u001b[0mget_time\u001b[0m\u001b[1;33m(\u001b[0m\u001b[0mtrial\u001b[0m \u001b[1;33m+\u001b[0m \u001b[1;36m1\u001b[0m\u001b[1;33m)\u001b[0m\u001b[1;33m\u001b[0m\u001b[0m\n\u001b[0m\u001b[0;32m     34\u001b[0m \u001b[1;33m\u001b[0m\u001b[0m\n\u001b[0;32m     35\u001b[0m         \u001b[1;32mif\u001b[0m \u001b[0mtrial\u001b[0m \u001b[1;33m>\u001b[0m \u001b[1;36m10\u001b[0m\u001b[1;33m:\u001b[0m\u001b[1;33m\u001b[0m\u001b[0m\n",
      "\u001b[1;32m~\\ALL ABOUT ME\\PROGRAMME\\Python\\lib\\site-packages\\pypot\\vrep\\__init__.py\u001b[0m in \u001b[0;36mget_time\u001b[1;34m(self, trial)\u001b[0m\n\u001b[0;32m     31\u001b[0m         \u001b[1;32mif\u001b[0m \u001b[0mt\u001b[0m \u001b[1;33m==\u001b[0m \u001b[1;36m0\u001b[0m\u001b[1;33m:\u001b[0m\u001b[1;33m\u001b[0m\u001b[0m\n\u001b[0;32m     32\u001b[0m             \u001b[0msys_time\u001b[0m\u001b[1;33m.\u001b[0m\u001b[0msleep\u001b[0m\u001b[1;33m(\u001b[0m\u001b[1;36m.5\u001b[0m\u001b[1;33m)\u001b[0m\u001b[1;33m\u001b[0m\u001b[0m\n\u001b[1;32m---> 33\u001b[1;33m             \u001b[1;32mreturn\u001b[0m \u001b[0mself\u001b[0m\u001b[1;33m.\u001b[0m\u001b[0mget_time\u001b[0m\u001b[1;33m(\u001b[0m\u001b[0mtrial\u001b[0m \u001b[1;33m+\u001b[0m \u001b[1;36m1\u001b[0m\u001b[1;33m)\u001b[0m\u001b[1;33m\u001b[0m\u001b[0m\n\u001b[0m\u001b[0;32m     34\u001b[0m \u001b[1;33m\u001b[0m\u001b[0m\n\u001b[0;32m     35\u001b[0m         \u001b[1;32mif\u001b[0m \u001b[0mtrial\u001b[0m \u001b[1;33m>\u001b[0m \u001b[1;36m10\u001b[0m\u001b[1;33m:\u001b[0m\u001b[1;33m\u001b[0m\u001b[0m\n",
      "\u001b[1;32m~\\ALL ABOUT ME\\PROGRAMME\\Python\\lib\\site-packages\\pypot\\vrep\\__init__.py\u001b[0m in \u001b[0;36mget_time\u001b[1;34m(self, trial)\u001b[0m\n\u001b[0;32m     31\u001b[0m         \u001b[1;32mif\u001b[0m \u001b[0mt\u001b[0m \u001b[1;33m==\u001b[0m \u001b[1;36m0\u001b[0m\u001b[1;33m:\u001b[0m\u001b[1;33m\u001b[0m\u001b[0m\n\u001b[0;32m     32\u001b[0m             \u001b[0msys_time\u001b[0m\u001b[1;33m.\u001b[0m\u001b[0msleep\u001b[0m\u001b[1;33m(\u001b[0m\u001b[1;36m.5\u001b[0m\u001b[1;33m)\u001b[0m\u001b[1;33m\u001b[0m\u001b[0m\n\u001b[1;32m---> 33\u001b[1;33m             \u001b[1;32mreturn\u001b[0m \u001b[0mself\u001b[0m\u001b[1;33m.\u001b[0m\u001b[0mget_time\u001b[0m\u001b[1;33m(\u001b[0m\u001b[0mtrial\u001b[0m \u001b[1;33m+\u001b[0m \u001b[1;36m1\u001b[0m\u001b[1;33m)\u001b[0m\u001b[1;33m\u001b[0m\u001b[0m\n\u001b[0m\u001b[0;32m     34\u001b[0m \u001b[1;33m\u001b[0m\u001b[0m\n\u001b[0;32m     35\u001b[0m         \u001b[1;32mif\u001b[0m \u001b[0mtrial\u001b[0m \u001b[1;33m>\u001b[0m \u001b[1;36m10\u001b[0m\u001b[1;33m:\u001b[0m\u001b[1;33m\u001b[0m\u001b[0m\n",
      "\u001b[1;32m~\\ALL ABOUT ME\\PROGRAMME\\Python\\lib\\site-packages\\pypot\\vrep\\__init__.py\u001b[0m in \u001b[0;36mget_time\u001b[1;34m(self, trial)\u001b[0m\n\u001b[0;32m     31\u001b[0m         \u001b[1;32mif\u001b[0m \u001b[0mt\u001b[0m \u001b[1;33m==\u001b[0m \u001b[1;36m0\u001b[0m\u001b[1;33m:\u001b[0m\u001b[1;33m\u001b[0m\u001b[0m\n\u001b[0;32m     32\u001b[0m             \u001b[0msys_time\u001b[0m\u001b[1;33m.\u001b[0m\u001b[0msleep\u001b[0m\u001b[1;33m(\u001b[0m\u001b[1;36m.5\u001b[0m\u001b[1;33m)\u001b[0m\u001b[1;33m\u001b[0m\u001b[0m\n\u001b[1;32m---> 33\u001b[1;33m             \u001b[1;32mreturn\u001b[0m \u001b[0mself\u001b[0m\u001b[1;33m.\u001b[0m\u001b[0mget_time\u001b[0m\u001b[1;33m(\u001b[0m\u001b[0mtrial\u001b[0m \u001b[1;33m+\u001b[0m \u001b[1;36m1\u001b[0m\u001b[1;33m)\u001b[0m\u001b[1;33m\u001b[0m\u001b[0m\n\u001b[0m\u001b[0;32m     34\u001b[0m \u001b[1;33m\u001b[0m\u001b[0m\n\u001b[0;32m     35\u001b[0m         \u001b[1;32mif\u001b[0m \u001b[0mtrial\u001b[0m \u001b[1;33m>\u001b[0m \u001b[1;36m10\u001b[0m\u001b[1;33m:\u001b[0m\u001b[1;33m\u001b[0m\u001b[0m\n",
      "\u001b[1;32m~\\ALL ABOUT ME\\PROGRAMME\\Python\\lib\\site-packages\\pypot\\vrep\\__init__.py\u001b[0m in \u001b[0;36mget_time\u001b[1;34m(self, trial)\u001b[0m\n\u001b[0;32m     31\u001b[0m         \u001b[1;32mif\u001b[0m \u001b[0mt\u001b[0m \u001b[1;33m==\u001b[0m \u001b[1;36m0\u001b[0m\u001b[1;33m:\u001b[0m\u001b[1;33m\u001b[0m\u001b[0m\n\u001b[0;32m     32\u001b[0m             \u001b[0msys_time\u001b[0m\u001b[1;33m.\u001b[0m\u001b[0msleep\u001b[0m\u001b[1;33m(\u001b[0m\u001b[1;36m.5\u001b[0m\u001b[1;33m)\u001b[0m\u001b[1;33m\u001b[0m\u001b[0m\n\u001b[1;32m---> 33\u001b[1;33m             \u001b[1;32mreturn\u001b[0m \u001b[0mself\u001b[0m\u001b[1;33m.\u001b[0m\u001b[0mget_time\u001b[0m\u001b[1;33m(\u001b[0m\u001b[0mtrial\u001b[0m \u001b[1;33m+\u001b[0m \u001b[1;36m1\u001b[0m\u001b[1;33m)\u001b[0m\u001b[1;33m\u001b[0m\u001b[0m\n\u001b[0m\u001b[0;32m     34\u001b[0m \u001b[1;33m\u001b[0m\u001b[0m\n\u001b[0;32m     35\u001b[0m         \u001b[1;32mif\u001b[0m \u001b[0mtrial\u001b[0m \u001b[1;33m>\u001b[0m \u001b[1;36m10\u001b[0m\u001b[1;33m:\u001b[0m\u001b[1;33m\u001b[0m\u001b[0m\n",
      "\u001b[1;32m~\\ALL ABOUT ME\\PROGRAMME\\Python\\lib\\site-packages\\pypot\\vrep\\__init__.py\u001b[0m in \u001b[0;36mget_time\u001b[1;34m(self, trial)\u001b[0m\n\u001b[0;32m     31\u001b[0m         \u001b[1;32mif\u001b[0m \u001b[0mt\u001b[0m \u001b[1;33m==\u001b[0m \u001b[1;36m0\u001b[0m\u001b[1;33m:\u001b[0m\u001b[1;33m\u001b[0m\u001b[0m\n\u001b[0;32m     32\u001b[0m             \u001b[0msys_time\u001b[0m\u001b[1;33m.\u001b[0m\u001b[0msleep\u001b[0m\u001b[1;33m(\u001b[0m\u001b[1;36m.5\u001b[0m\u001b[1;33m)\u001b[0m\u001b[1;33m\u001b[0m\u001b[0m\n\u001b[1;32m---> 33\u001b[1;33m             \u001b[1;32mreturn\u001b[0m \u001b[0mself\u001b[0m\u001b[1;33m.\u001b[0m\u001b[0mget_time\u001b[0m\u001b[1;33m(\u001b[0m\u001b[0mtrial\u001b[0m \u001b[1;33m+\u001b[0m \u001b[1;36m1\u001b[0m\u001b[1;33m)\u001b[0m\u001b[1;33m\u001b[0m\u001b[0m\n\u001b[0m\u001b[0;32m     34\u001b[0m \u001b[1;33m\u001b[0m\u001b[0m\n\u001b[0;32m     35\u001b[0m         \u001b[1;32mif\u001b[0m \u001b[0mtrial\u001b[0m \u001b[1;33m>\u001b[0m \u001b[1;36m10\u001b[0m\u001b[1;33m:\u001b[0m\u001b[1;33m\u001b[0m\u001b[0m\n",
      "\u001b[1;32m~\\ALL ABOUT ME\\PROGRAMME\\Python\\lib\\site-packages\\pypot\\vrep\\__init__.py\u001b[0m in \u001b[0;36mget_time\u001b[1;34m(self, trial)\u001b[0m\n\u001b[0;32m     31\u001b[0m         \u001b[1;32mif\u001b[0m \u001b[0mt\u001b[0m \u001b[1;33m==\u001b[0m \u001b[1;36m0\u001b[0m\u001b[1;33m:\u001b[0m\u001b[1;33m\u001b[0m\u001b[0m\n\u001b[0;32m     32\u001b[0m             \u001b[0msys_time\u001b[0m\u001b[1;33m.\u001b[0m\u001b[0msleep\u001b[0m\u001b[1;33m(\u001b[0m\u001b[1;36m.5\u001b[0m\u001b[1;33m)\u001b[0m\u001b[1;33m\u001b[0m\u001b[0m\n\u001b[1;32m---> 33\u001b[1;33m             \u001b[1;32mreturn\u001b[0m \u001b[0mself\u001b[0m\u001b[1;33m.\u001b[0m\u001b[0mget_time\u001b[0m\u001b[1;33m(\u001b[0m\u001b[0mtrial\u001b[0m \u001b[1;33m+\u001b[0m \u001b[1;36m1\u001b[0m\u001b[1;33m)\u001b[0m\u001b[1;33m\u001b[0m\u001b[0m\n\u001b[0m\u001b[0;32m     34\u001b[0m \u001b[1;33m\u001b[0m\u001b[0m\n\u001b[0;32m     35\u001b[0m         \u001b[1;32mif\u001b[0m \u001b[0mtrial\u001b[0m \u001b[1;33m>\u001b[0m \u001b[1;36m10\u001b[0m\u001b[1;33m:\u001b[0m\u001b[1;33m\u001b[0m\u001b[0m\n",
      "\u001b[1;32m~\\ALL ABOUT ME\\PROGRAMME\\Python\\lib\\site-packages\\pypot\\vrep\\__init__.py\u001b[0m in \u001b[0;36mget_time\u001b[1;34m(self, trial)\u001b[0m\n\u001b[0;32m     31\u001b[0m         \u001b[1;32mif\u001b[0m \u001b[0mt\u001b[0m \u001b[1;33m==\u001b[0m \u001b[1;36m0\u001b[0m\u001b[1;33m:\u001b[0m\u001b[1;33m\u001b[0m\u001b[0m\n\u001b[0;32m     32\u001b[0m             \u001b[0msys_time\u001b[0m\u001b[1;33m.\u001b[0m\u001b[0msleep\u001b[0m\u001b[1;33m(\u001b[0m\u001b[1;36m.5\u001b[0m\u001b[1;33m)\u001b[0m\u001b[1;33m\u001b[0m\u001b[0m\n\u001b[1;32m---> 33\u001b[1;33m             \u001b[1;32mreturn\u001b[0m \u001b[0mself\u001b[0m\u001b[1;33m.\u001b[0m\u001b[0mget_time\u001b[0m\u001b[1;33m(\u001b[0m\u001b[0mtrial\u001b[0m \u001b[1;33m+\u001b[0m \u001b[1;36m1\u001b[0m\u001b[1;33m)\u001b[0m\u001b[1;33m\u001b[0m\u001b[0m\n\u001b[0m\u001b[0;32m     34\u001b[0m \u001b[1;33m\u001b[0m\u001b[0m\n\u001b[0;32m     35\u001b[0m         \u001b[1;32mif\u001b[0m \u001b[0mtrial\u001b[0m \u001b[1;33m>\u001b[0m \u001b[1;36m10\u001b[0m\u001b[1;33m:\u001b[0m\u001b[1;33m\u001b[0m\u001b[0m\n",
      "\u001b[1;32m~\\ALL ABOUT ME\\PROGRAMME\\Python\\lib\\site-packages\\pypot\\vrep\\__init__.py\u001b[0m in \u001b[0;36mget_time\u001b[1;34m(self, trial)\u001b[0m\n\u001b[0;32m     31\u001b[0m         \u001b[1;32mif\u001b[0m \u001b[0mt\u001b[0m \u001b[1;33m==\u001b[0m \u001b[1;36m0\u001b[0m\u001b[1;33m:\u001b[0m\u001b[1;33m\u001b[0m\u001b[0m\n\u001b[0;32m     32\u001b[0m             \u001b[0msys_time\u001b[0m\u001b[1;33m.\u001b[0m\u001b[0msleep\u001b[0m\u001b[1;33m(\u001b[0m\u001b[1;36m.5\u001b[0m\u001b[1;33m)\u001b[0m\u001b[1;33m\u001b[0m\u001b[0m\n\u001b[1;32m---> 33\u001b[1;33m             \u001b[1;32mreturn\u001b[0m \u001b[0mself\u001b[0m\u001b[1;33m.\u001b[0m\u001b[0mget_time\u001b[0m\u001b[1;33m(\u001b[0m\u001b[0mtrial\u001b[0m \u001b[1;33m+\u001b[0m \u001b[1;36m1\u001b[0m\u001b[1;33m)\u001b[0m\u001b[1;33m\u001b[0m\u001b[0m\n\u001b[0m\u001b[0;32m     34\u001b[0m \u001b[1;33m\u001b[0m\u001b[0m\n\u001b[0;32m     35\u001b[0m         \u001b[1;32mif\u001b[0m \u001b[0mtrial\u001b[0m \u001b[1;33m>\u001b[0m \u001b[1;36m10\u001b[0m\u001b[1;33m:\u001b[0m\u001b[1;33m\u001b[0m\u001b[0m\n",
      "\u001b[1;32m~\\ALL ABOUT ME\\PROGRAMME\\Python\\lib\\site-packages\\pypot\\vrep\\__init__.py\u001b[0m in \u001b[0;36mget_time\u001b[1;34m(self, trial)\u001b[0m\n\u001b[0;32m     31\u001b[0m         \u001b[1;32mif\u001b[0m \u001b[0mt\u001b[0m \u001b[1;33m==\u001b[0m \u001b[1;36m0\u001b[0m\u001b[1;33m:\u001b[0m\u001b[1;33m\u001b[0m\u001b[0m\n\u001b[0;32m     32\u001b[0m             \u001b[0msys_time\u001b[0m\u001b[1;33m.\u001b[0m\u001b[0msleep\u001b[0m\u001b[1;33m(\u001b[0m\u001b[1;36m.5\u001b[0m\u001b[1;33m)\u001b[0m\u001b[1;33m\u001b[0m\u001b[0m\n\u001b[1;32m---> 33\u001b[1;33m             \u001b[1;32mreturn\u001b[0m \u001b[0mself\u001b[0m\u001b[1;33m.\u001b[0m\u001b[0mget_time\u001b[0m\u001b[1;33m(\u001b[0m\u001b[0mtrial\u001b[0m \u001b[1;33m+\u001b[0m \u001b[1;36m1\u001b[0m\u001b[1;33m)\u001b[0m\u001b[1;33m\u001b[0m\u001b[0m\n\u001b[0m\u001b[0;32m     34\u001b[0m \u001b[1;33m\u001b[0m\u001b[0m\n\u001b[0;32m     35\u001b[0m         \u001b[1;32mif\u001b[0m \u001b[0mtrial\u001b[0m \u001b[1;33m>\u001b[0m \u001b[1;36m10\u001b[0m\u001b[1;33m:\u001b[0m\u001b[1;33m\u001b[0m\u001b[0m\n",
      "\u001b[1;32m~\\ALL ABOUT ME\\PROGRAMME\\Python\\lib\\site-packages\\pypot\\vrep\\__init__.py\u001b[0m in \u001b[0;36mget_time\u001b[1;34m(self, trial)\u001b[0m\n\u001b[0;32m     31\u001b[0m         \u001b[1;32mif\u001b[0m \u001b[0mt\u001b[0m \u001b[1;33m==\u001b[0m \u001b[1;36m0\u001b[0m\u001b[1;33m:\u001b[0m\u001b[1;33m\u001b[0m\u001b[0m\n\u001b[0;32m     32\u001b[0m             \u001b[0msys_time\u001b[0m\u001b[1;33m.\u001b[0m\u001b[0msleep\u001b[0m\u001b[1;33m(\u001b[0m\u001b[1;36m.5\u001b[0m\u001b[1;33m)\u001b[0m\u001b[1;33m\u001b[0m\u001b[0m\n\u001b[1;32m---> 33\u001b[1;33m             \u001b[1;32mreturn\u001b[0m \u001b[0mself\u001b[0m\u001b[1;33m.\u001b[0m\u001b[0mget_time\u001b[0m\u001b[1;33m(\u001b[0m\u001b[0mtrial\u001b[0m \u001b[1;33m+\u001b[0m \u001b[1;36m1\u001b[0m\u001b[1;33m)\u001b[0m\u001b[1;33m\u001b[0m\u001b[0m\n\u001b[0m\u001b[0;32m     34\u001b[0m \u001b[1;33m\u001b[0m\u001b[0m\n\u001b[0;32m     35\u001b[0m         \u001b[1;32mif\u001b[0m \u001b[0mtrial\u001b[0m \u001b[1;33m>\u001b[0m \u001b[1;36m10\u001b[0m\u001b[1;33m:\u001b[0m\u001b[1;33m\u001b[0m\u001b[0m\n",
      "\u001b[1;32m~\\ALL ABOUT ME\\PROGRAMME\\Python\\lib\\site-packages\\pypot\\vrep\\__init__.py\u001b[0m in \u001b[0;36mget_time\u001b[1;34m(self, trial)\u001b[0m\n\u001b[0;32m     31\u001b[0m         \u001b[1;32mif\u001b[0m \u001b[0mt\u001b[0m \u001b[1;33m==\u001b[0m \u001b[1;36m0\u001b[0m\u001b[1;33m:\u001b[0m\u001b[1;33m\u001b[0m\u001b[0m\n\u001b[0;32m     32\u001b[0m             \u001b[0msys_time\u001b[0m\u001b[1;33m.\u001b[0m\u001b[0msleep\u001b[0m\u001b[1;33m(\u001b[0m\u001b[1;36m.5\u001b[0m\u001b[1;33m)\u001b[0m\u001b[1;33m\u001b[0m\u001b[0m\n\u001b[1;32m---> 33\u001b[1;33m             \u001b[1;32mreturn\u001b[0m \u001b[0mself\u001b[0m\u001b[1;33m.\u001b[0m\u001b[0mget_time\u001b[0m\u001b[1;33m(\u001b[0m\u001b[0mtrial\u001b[0m \u001b[1;33m+\u001b[0m \u001b[1;36m1\u001b[0m\u001b[1;33m)\u001b[0m\u001b[1;33m\u001b[0m\u001b[0m\n\u001b[0m\u001b[0;32m     34\u001b[0m \u001b[1;33m\u001b[0m\u001b[0m\n\u001b[0;32m     35\u001b[0m         \u001b[1;32mif\u001b[0m \u001b[0mtrial\u001b[0m \u001b[1;33m>\u001b[0m \u001b[1;36m10\u001b[0m\u001b[1;33m:\u001b[0m\u001b[1;33m\u001b[0m\u001b[0m\n",
      "\u001b[1;32m~\\ALL ABOUT ME\\PROGRAMME\\Python\\lib\\site-packages\\pypot\\vrep\\__init__.py\u001b[0m in \u001b[0;36mget_time\u001b[1;34m(self, trial)\u001b[0m\n\u001b[0;32m     31\u001b[0m         \u001b[1;32mif\u001b[0m \u001b[0mt\u001b[0m \u001b[1;33m==\u001b[0m \u001b[1;36m0\u001b[0m\u001b[1;33m:\u001b[0m\u001b[1;33m\u001b[0m\u001b[0m\n\u001b[0;32m     32\u001b[0m             \u001b[0msys_time\u001b[0m\u001b[1;33m.\u001b[0m\u001b[0msleep\u001b[0m\u001b[1;33m(\u001b[0m\u001b[1;36m.5\u001b[0m\u001b[1;33m)\u001b[0m\u001b[1;33m\u001b[0m\u001b[0m\n\u001b[1;32m---> 33\u001b[1;33m             \u001b[1;32mreturn\u001b[0m \u001b[0mself\u001b[0m\u001b[1;33m.\u001b[0m\u001b[0mget_time\u001b[0m\u001b[1;33m(\u001b[0m\u001b[0mtrial\u001b[0m \u001b[1;33m+\u001b[0m \u001b[1;36m1\u001b[0m\u001b[1;33m)\u001b[0m\u001b[1;33m\u001b[0m\u001b[0m\n\u001b[0m\u001b[0;32m     34\u001b[0m \u001b[1;33m\u001b[0m\u001b[0m\n\u001b[0;32m     35\u001b[0m         \u001b[1;32mif\u001b[0m \u001b[0mtrial\u001b[0m \u001b[1;33m>\u001b[0m \u001b[1;36m10\u001b[0m\u001b[1;33m:\u001b[0m\u001b[1;33m\u001b[0m\u001b[0m\n",
      "\u001b[1;32m~\\ALL ABOUT ME\\PROGRAMME\\Python\\lib\\site-packages\\pypot\\vrep\\__init__.py\u001b[0m in \u001b[0;36mget_time\u001b[1;34m(self, trial)\u001b[0m\n\u001b[0;32m     31\u001b[0m         \u001b[1;32mif\u001b[0m \u001b[0mt\u001b[0m \u001b[1;33m==\u001b[0m \u001b[1;36m0\u001b[0m\u001b[1;33m:\u001b[0m\u001b[1;33m\u001b[0m\u001b[0m\n\u001b[0;32m     32\u001b[0m             \u001b[0msys_time\u001b[0m\u001b[1;33m.\u001b[0m\u001b[0msleep\u001b[0m\u001b[1;33m(\u001b[0m\u001b[1;36m.5\u001b[0m\u001b[1;33m)\u001b[0m\u001b[1;33m\u001b[0m\u001b[0m\n\u001b[1;32m---> 33\u001b[1;33m             \u001b[1;32mreturn\u001b[0m \u001b[0mself\u001b[0m\u001b[1;33m.\u001b[0m\u001b[0mget_time\u001b[0m\u001b[1;33m(\u001b[0m\u001b[0mtrial\u001b[0m \u001b[1;33m+\u001b[0m \u001b[1;36m1\u001b[0m\u001b[1;33m)\u001b[0m\u001b[1;33m\u001b[0m\u001b[0m\n\u001b[0m\u001b[0;32m     34\u001b[0m \u001b[1;33m\u001b[0m\u001b[0m\n\u001b[0;32m     35\u001b[0m         \u001b[1;32mif\u001b[0m \u001b[0mtrial\u001b[0m \u001b[1;33m>\u001b[0m \u001b[1;36m10\u001b[0m\u001b[1;33m:\u001b[0m\u001b[1;33m\u001b[0m\u001b[0m\n",
      "\u001b[1;32m~\\ALL ABOUT ME\\PROGRAMME\\Python\\lib\\site-packages\\pypot\\vrep\\__init__.py\u001b[0m in \u001b[0;36mget_time\u001b[1;34m(self, trial)\u001b[0m\n\u001b[0;32m     31\u001b[0m         \u001b[1;32mif\u001b[0m \u001b[0mt\u001b[0m \u001b[1;33m==\u001b[0m \u001b[1;36m0\u001b[0m\u001b[1;33m:\u001b[0m\u001b[1;33m\u001b[0m\u001b[0m\n\u001b[0;32m     32\u001b[0m             \u001b[0msys_time\u001b[0m\u001b[1;33m.\u001b[0m\u001b[0msleep\u001b[0m\u001b[1;33m(\u001b[0m\u001b[1;36m.5\u001b[0m\u001b[1;33m)\u001b[0m\u001b[1;33m\u001b[0m\u001b[0m\n\u001b[1;32m---> 33\u001b[1;33m             \u001b[1;32mreturn\u001b[0m \u001b[0mself\u001b[0m\u001b[1;33m.\u001b[0m\u001b[0mget_time\u001b[0m\u001b[1;33m(\u001b[0m\u001b[0mtrial\u001b[0m \u001b[1;33m+\u001b[0m \u001b[1;36m1\u001b[0m\u001b[1;33m)\u001b[0m\u001b[1;33m\u001b[0m\u001b[0m\n\u001b[0m\u001b[0;32m     34\u001b[0m \u001b[1;33m\u001b[0m\u001b[0m\n\u001b[0;32m     35\u001b[0m         \u001b[1;32mif\u001b[0m \u001b[0mtrial\u001b[0m \u001b[1;33m>\u001b[0m \u001b[1;36m10\u001b[0m\u001b[1;33m:\u001b[0m\u001b[1;33m\u001b[0m\u001b[0m\n",
      "\u001b[1;32m~\\ALL ABOUT ME\\PROGRAMME\\Python\\lib\\site-packages\\pypot\\vrep\\__init__.py\u001b[0m in \u001b[0;36mget_time\u001b[1;34m(self, trial)\u001b[0m\n\u001b[0;32m     31\u001b[0m         \u001b[1;32mif\u001b[0m \u001b[0mt\u001b[0m \u001b[1;33m==\u001b[0m \u001b[1;36m0\u001b[0m\u001b[1;33m:\u001b[0m\u001b[1;33m\u001b[0m\u001b[0m\n\u001b[0;32m     32\u001b[0m             \u001b[0msys_time\u001b[0m\u001b[1;33m.\u001b[0m\u001b[0msleep\u001b[0m\u001b[1;33m(\u001b[0m\u001b[1;36m.5\u001b[0m\u001b[1;33m)\u001b[0m\u001b[1;33m\u001b[0m\u001b[0m\n\u001b[1;32m---> 33\u001b[1;33m             \u001b[1;32mreturn\u001b[0m \u001b[0mself\u001b[0m\u001b[1;33m.\u001b[0m\u001b[0mget_time\u001b[0m\u001b[1;33m(\u001b[0m\u001b[0mtrial\u001b[0m \u001b[1;33m+\u001b[0m \u001b[1;36m1\u001b[0m\u001b[1;33m)\u001b[0m\u001b[1;33m\u001b[0m\u001b[0m\n\u001b[0m\u001b[0;32m     34\u001b[0m \u001b[1;33m\u001b[0m\u001b[0m\n\u001b[0;32m     35\u001b[0m         \u001b[1;32mif\u001b[0m \u001b[0mtrial\u001b[0m \u001b[1;33m>\u001b[0m \u001b[1;36m10\u001b[0m\u001b[1;33m:\u001b[0m\u001b[1;33m\u001b[0m\u001b[0m\n",
      "\u001b[1;32m~\\ALL ABOUT ME\\PROGRAMME\\Python\\lib\\site-packages\\pypot\\vrep\\__init__.py\u001b[0m in \u001b[0;36mget_time\u001b[1;34m(self, trial)\u001b[0m\n\u001b[0;32m     31\u001b[0m         \u001b[1;32mif\u001b[0m \u001b[0mt\u001b[0m \u001b[1;33m==\u001b[0m \u001b[1;36m0\u001b[0m\u001b[1;33m:\u001b[0m\u001b[1;33m\u001b[0m\u001b[0m\n\u001b[0;32m     32\u001b[0m             \u001b[0msys_time\u001b[0m\u001b[1;33m.\u001b[0m\u001b[0msleep\u001b[0m\u001b[1;33m(\u001b[0m\u001b[1;36m.5\u001b[0m\u001b[1;33m)\u001b[0m\u001b[1;33m\u001b[0m\u001b[0m\n\u001b[1;32m---> 33\u001b[1;33m             \u001b[1;32mreturn\u001b[0m \u001b[0mself\u001b[0m\u001b[1;33m.\u001b[0m\u001b[0mget_time\u001b[0m\u001b[1;33m(\u001b[0m\u001b[0mtrial\u001b[0m \u001b[1;33m+\u001b[0m \u001b[1;36m1\u001b[0m\u001b[1;33m)\u001b[0m\u001b[1;33m\u001b[0m\u001b[0m\n\u001b[0m\u001b[0;32m     34\u001b[0m \u001b[1;33m\u001b[0m\u001b[0m\n\u001b[0;32m     35\u001b[0m         \u001b[1;32mif\u001b[0m \u001b[0mtrial\u001b[0m \u001b[1;33m>\u001b[0m \u001b[1;36m10\u001b[0m\u001b[1;33m:\u001b[0m\u001b[1;33m\u001b[0m\u001b[0m\n",
      "\u001b[1;32m~\\ALL ABOUT ME\\PROGRAMME\\Python\\lib\\site-packages\\pypot\\vrep\\__init__.py\u001b[0m in \u001b[0;36mget_time\u001b[1;34m(self, trial)\u001b[0m\n\u001b[0;32m     31\u001b[0m         \u001b[1;32mif\u001b[0m \u001b[0mt\u001b[0m \u001b[1;33m==\u001b[0m \u001b[1;36m0\u001b[0m\u001b[1;33m:\u001b[0m\u001b[1;33m\u001b[0m\u001b[0m\n\u001b[0;32m     32\u001b[0m             \u001b[0msys_time\u001b[0m\u001b[1;33m.\u001b[0m\u001b[0msleep\u001b[0m\u001b[1;33m(\u001b[0m\u001b[1;36m.5\u001b[0m\u001b[1;33m)\u001b[0m\u001b[1;33m\u001b[0m\u001b[0m\n\u001b[1;32m---> 33\u001b[1;33m             \u001b[1;32mreturn\u001b[0m \u001b[0mself\u001b[0m\u001b[1;33m.\u001b[0m\u001b[0mget_time\u001b[0m\u001b[1;33m(\u001b[0m\u001b[0mtrial\u001b[0m \u001b[1;33m+\u001b[0m \u001b[1;36m1\u001b[0m\u001b[1;33m)\u001b[0m\u001b[1;33m\u001b[0m\u001b[0m\n\u001b[0m\u001b[0;32m     34\u001b[0m \u001b[1;33m\u001b[0m\u001b[0m\n\u001b[0;32m     35\u001b[0m         \u001b[1;32mif\u001b[0m \u001b[0mtrial\u001b[0m \u001b[1;33m>\u001b[0m \u001b[1;36m10\u001b[0m\u001b[1;33m:\u001b[0m\u001b[1;33m\u001b[0m\u001b[0m\n",
      "\u001b[1;32m~\\ALL ABOUT ME\\PROGRAMME\\Python\\lib\\site-packages\\pypot\\vrep\\__init__.py\u001b[0m in \u001b[0;36mget_time\u001b[1;34m(self, trial)\u001b[0m\n\u001b[0;32m     31\u001b[0m         \u001b[1;32mif\u001b[0m \u001b[0mt\u001b[0m \u001b[1;33m==\u001b[0m \u001b[1;36m0\u001b[0m\u001b[1;33m:\u001b[0m\u001b[1;33m\u001b[0m\u001b[0m\n\u001b[0;32m     32\u001b[0m             \u001b[0msys_time\u001b[0m\u001b[1;33m.\u001b[0m\u001b[0msleep\u001b[0m\u001b[1;33m(\u001b[0m\u001b[1;36m.5\u001b[0m\u001b[1;33m)\u001b[0m\u001b[1;33m\u001b[0m\u001b[0m\n\u001b[1;32m---> 33\u001b[1;33m             \u001b[1;32mreturn\u001b[0m \u001b[0mself\u001b[0m\u001b[1;33m.\u001b[0m\u001b[0mget_time\u001b[0m\u001b[1;33m(\u001b[0m\u001b[0mtrial\u001b[0m \u001b[1;33m+\u001b[0m \u001b[1;36m1\u001b[0m\u001b[1;33m)\u001b[0m\u001b[1;33m\u001b[0m\u001b[0m\n\u001b[0m\u001b[0;32m     34\u001b[0m \u001b[1;33m\u001b[0m\u001b[0m\n\u001b[0;32m     35\u001b[0m         \u001b[1;32mif\u001b[0m \u001b[0mtrial\u001b[0m \u001b[1;33m>\u001b[0m \u001b[1;36m10\u001b[0m\u001b[1;33m:\u001b[0m\u001b[1;33m\u001b[0m\u001b[0m\n",
      "\u001b[1;32m~\\ALL ABOUT ME\\PROGRAMME\\Python\\lib\\site-packages\\pypot\\vrep\\__init__.py\u001b[0m in \u001b[0;36mget_time\u001b[1;34m(self, trial)\u001b[0m\n\u001b[0;32m     31\u001b[0m         \u001b[1;32mif\u001b[0m \u001b[0mt\u001b[0m \u001b[1;33m==\u001b[0m \u001b[1;36m0\u001b[0m\u001b[1;33m:\u001b[0m\u001b[1;33m\u001b[0m\u001b[0m\n\u001b[0;32m     32\u001b[0m             \u001b[0msys_time\u001b[0m\u001b[1;33m.\u001b[0m\u001b[0msleep\u001b[0m\u001b[1;33m(\u001b[0m\u001b[1;36m.5\u001b[0m\u001b[1;33m)\u001b[0m\u001b[1;33m\u001b[0m\u001b[0m\n\u001b[1;32m---> 33\u001b[1;33m             \u001b[1;32mreturn\u001b[0m \u001b[0mself\u001b[0m\u001b[1;33m.\u001b[0m\u001b[0mget_time\u001b[0m\u001b[1;33m(\u001b[0m\u001b[0mtrial\u001b[0m \u001b[1;33m+\u001b[0m \u001b[1;36m1\u001b[0m\u001b[1;33m)\u001b[0m\u001b[1;33m\u001b[0m\u001b[0m\n\u001b[0m\u001b[0;32m     34\u001b[0m \u001b[1;33m\u001b[0m\u001b[0m\n\u001b[0;32m     35\u001b[0m         \u001b[1;32mif\u001b[0m \u001b[0mtrial\u001b[0m \u001b[1;33m>\u001b[0m \u001b[1;36m10\u001b[0m\u001b[1;33m:\u001b[0m\u001b[1;33m\u001b[0m\u001b[0m\n",
      "\u001b[1;32m~\\ALL ABOUT ME\\PROGRAMME\\Python\\lib\\site-packages\\pypot\\vrep\\__init__.py\u001b[0m in \u001b[0;36mget_time\u001b[1;34m(self, trial)\u001b[0m\n\u001b[0;32m     31\u001b[0m         \u001b[1;32mif\u001b[0m \u001b[0mt\u001b[0m \u001b[1;33m==\u001b[0m \u001b[1;36m0\u001b[0m\u001b[1;33m:\u001b[0m\u001b[1;33m\u001b[0m\u001b[0m\n\u001b[0;32m     32\u001b[0m             \u001b[0msys_time\u001b[0m\u001b[1;33m.\u001b[0m\u001b[0msleep\u001b[0m\u001b[1;33m(\u001b[0m\u001b[1;36m.5\u001b[0m\u001b[1;33m)\u001b[0m\u001b[1;33m\u001b[0m\u001b[0m\n\u001b[1;32m---> 33\u001b[1;33m             \u001b[1;32mreturn\u001b[0m \u001b[0mself\u001b[0m\u001b[1;33m.\u001b[0m\u001b[0mget_time\u001b[0m\u001b[1;33m(\u001b[0m\u001b[0mtrial\u001b[0m \u001b[1;33m+\u001b[0m \u001b[1;36m1\u001b[0m\u001b[1;33m)\u001b[0m\u001b[1;33m\u001b[0m\u001b[0m\n\u001b[0m\u001b[0;32m     34\u001b[0m \u001b[1;33m\u001b[0m\u001b[0m\n\u001b[0;32m     35\u001b[0m         \u001b[1;32mif\u001b[0m \u001b[0mtrial\u001b[0m \u001b[1;33m>\u001b[0m \u001b[1;36m10\u001b[0m\u001b[1;33m:\u001b[0m\u001b[1;33m\u001b[0m\u001b[0m\n",
      "\u001b[1;32m~\\ALL ABOUT ME\\PROGRAMME\\Python\\lib\\site-packages\\pypot\\vrep\\__init__.py\u001b[0m in \u001b[0;36mget_time\u001b[1;34m(self, trial)\u001b[0m\n\u001b[0;32m     31\u001b[0m         \u001b[1;32mif\u001b[0m \u001b[0mt\u001b[0m \u001b[1;33m==\u001b[0m \u001b[1;36m0\u001b[0m\u001b[1;33m:\u001b[0m\u001b[1;33m\u001b[0m\u001b[0m\n\u001b[0;32m     32\u001b[0m             \u001b[0msys_time\u001b[0m\u001b[1;33m.\u001b[0m\u001b[0msleep\u001b[0m\u001b[1;33m(\u001b[0m\u001b[1;36m.5\u001b[0m\u001b[1;33m)\u001b[0m\u001b[1;33m\u001b[0m\u001b[0m\n\u001b[1;32m---> 33\u001b[1;33m             \u001b[1;32mreturn\u001b[0m \u001b[0mself\u001b[0m\u001b[1;33m.\u001b[0m\u001b[0mget_time\u001b[0m\u001b[1;33m(\u001b[0m\u001b[0mtrial\u001b[0m \u001b[1;33m+\u001b[0m \u001b[1;36m1\u001b[0m\u001b[1;33m)\u001b[0m\u001b[1;33m\u001b[0m\u001b[0m\n\u001b[0m\u001b[0;32m     34\u001b[0m \u001b[1;33m\u001b[0m\u001b[0m\n\u001b[0;32m     35\u001b[0m         \u001b[1;32mif\u001b[0m \u001b[0mtrial\u001b[0m \u001b[1;33m>\u001b[0m \u001b[1;36m10\u001b[0m\u001b[1;33m:\u001b[0m\u001b[1;33m\u001b[0m\u001b[0m\n",
      "\u001b[1;32m~\\ALL ABOUT ME\\PROGRAMME\\Python\\lib\\site-packages\\pypot\\vrep\\__init__.py\u001b[0m in \u001b[0;36mget_time\u001b[1;34m(self, trial)\u001b[0m\n\u001b[0;32m     31\u001b[0m         \u001b[1;32mif\u001b[0m \u001b[0mt\u001b[0m \u001b[1;33m==\u001b[0m \u001b[1;36m0\u001b[0m\u001b[1;33m:\u001b[0m\u001b[1;33m\u001b[0m\u001b[0m\n\u001b[0;32m     32\u001b[0m             \u001b[0msys_time\u001b[0m\u001b[1;33m.\u001b[0m\u001b[0msleep\u001b[0m\u001b[1;33m(\u001b[0m\u001b[1;36m.5\u001b[0m\u001b[1;33m)\u001b[0m\u001b[1;33m\u001b[0m\u001b[0m\n\u001b[1;32m---> 33\u001b[1;33m             \u001b[1;32mreturn\u001b[0m \u001b[0mself\u001b[0m\u001b[1;33m.\u001b[0m\u001b[0mget_time\u001b[0m\u001b[1;33m(\u001b[0m\u001b[0mtrial\u001b[0m \u001b[1;33m+\u001b[0m \u001b[1;36m1\u001b[0m\u001b[1;33m)\u001b[0m\u001b[1;33m\u001b[0m\u001b[0m\n\u001b[0m\u001b[0;32m     34\u001b[0m \u001b[1;33m\u001b[0m\u001b[0m\n\u001b[0;32m     35\u001b[0m         \u001b[1;32mif\u001b[0m \u001b[0mtrial\u001b[0m \u001b[1;33m>\u001b[0m \u001b[1;36m10\u001b[0m\u001b[1;33m:\u001b[0m\u001b[1;33m\u001b[0m\u001b[0m\n",
      "\u001b[1;32m~\\ALL ABOUT ME\\PROGRAMME\\Python\\lib\\site-packages\\pypot\\vrep\\__init__.py\u001b[0m in \u001b[0;36mget_time\u001b[1;34m(self, trial)\u001b[0m\n\u001b[0;32m     31\u001b[0m         \u001b[1;32mif\u001b[0m \u001b[0mt\u001b[0m \u001b[1;33m==\u001b[0m \u001b[1;36m0\u001b[0m\u001b[1;33m:\u001b[0m\u001b[1;33m\u001b[0m\u001b[0m\n\u001b[0;32m     32\u001b[0m             \u001b[0msys_time\u001b[0m\u001b[1;33m.\u001b[0m\u001b[0msleep\u001b[0m\u001b[1;33m(\u001b[0m\u001b[1;36m.5\u001b[0m\u001b[1;33m)\u001b[0m\u001b[1;33m\u001b[0m\u001b[0m\n\u001b[1;32m---> 33\u001b[1;33m             \u001b[1;32mreturn\u001b[0m \u001b[0mself\u001b[0m\u001b[1;33m.\u001b[0m\u001b[0mget_time\u001b[0m\u001b[1;33m(\u001b[0m\u001b[0mtrial\u001b[0m \u001b[1;33m+\u001b[0m \u001b[1;36m1\u001b[0m\u001b[1;33m)\u001b[0m\u001b[1;33m\u001b[0m\u001b[0m\n\u001b[0m\u001b[0;32m     34\u001b[0m \u001b[1;33m\u001b[0m\u001b[0m\n\u001b[0;32m     35\u001b[0m         \u001b[1;32mif\u001b[0m \u001b[0mtrial\u001b[0m \u001b[1;33m>\u001b[0m \u001b[1;36m10\u001b[0m\u001b[1;33m:\u001b[0m\u001b[1;33m\u001b[0m\u001b[0m\n",
      "\u001b[1;32m~\\ALL ABOUT ME\\PROGRAMME\\Python\\lib\\site-packages\\pypot\\vrep\\__init__.py\u001b[0m in \u001b[0;36mget_time\u001b[1;34m(self, trial)\u001b[0m\n\u001b[0;32m     31\u001b[0m         \u001b[1;32mif\u001b[0m \u001b[0mt\u001b[0m \u001b[1;33m==\u001b[0m \u001b[1;36m0\u001b[0m\u001b[1;33m:\u001b[0m\u001b[1;33m\u001b[0m\u001b[0m\n\u001b[0;32m     32\u001b[0m             \u001b[0msys_time\u001b[0m\u001b[1;33m.\u001b[0m\u001b[0msleep\u001b[0m\u001b[1;33m(\u001b[0m\u001b[1;36m.5\u001b[0m\u001b[1;33m)\u001b[0m\u001b[1;33m\u001b[0m\u001b[0m\n\u001b[1;32m---> 33\u001b[1;33m             \u001b[1;32mreturn\u001b[0m \u001b[0mself\u001b[0m\u001b[1;33m.\u001b[0m\u001b[0mget_time\u001b[0m\u001b[1;33m(\u001b[0m\u001b[0mtrial\u001b[0m \u001b[1;33m+\u001b[0m \u001b[1;36m1\u001b[0m\u001b[1;33m)\u001b[0m\u001b[1;33m\u001b[0m\u001b[0m\n\u001b[0m\u001b[0;32m     34\u001b[0m \u001b[1;33m\u001b[0m\u001b[0m\n\u001b[0;32m     35\u001b[0m         \u001b[1;32mif\u001b[0m \u001b[0mtrial\u001b[0m \u001b[1;33m>\u001b[0m \u001b[1;36m10\u001b[0m\u001b[1;33m:\u001b[0m\u001b[1;33m\u001b[0m\u001b[0m\n",
      "\u001b[1;32m~\\ALL ABOUT ME\\PROGRAMME\\Python\\lib\\site-packages\\pypot\\vrep\\__init__.py\u001b[0m in \u001b[0;36mget_time\u001b[1;34m(self, trial)\u001b[0m\n\u001b[0;32m     31\u001b[0m         \u001b[1;32mif\u001b[0m \u001b[0mt\u001b[0m \u001b[1;33m==\u001b[0m \u001b[1;36m0\u001b[0m\u001b[1;33m:\u001b[0m\u001b[1;33m\u001b[0m\u001b[0m\n\u001b[0;32m     32\u001b[0m             \u001b[0msys_time\u001b[0m\u001b[1;33m.\u001b[0m\u001b[0msleep\u001b[0m\u001b[1;33m(\u001b[0m\u001b[1;36m.5\u001b[0m\u001b[1;33m)\u001b[0m\u001b[1;33m\u001b[0m\u001b[0m\n\u001b[1;32m---> 33\u001b[1;33m             \u001b[1;32mreturn\u001b[0m \u001b[0mself\u001b[0m\u001b[1;33m.\u001b[0m\u001b[0mget_time\u001b[0m\u001b[1;33m(\u001b[0m\u001b[0mtrial\u001b[0m \u001b[1;33m+\u001b[0m \u001b[1;36m1\u001b[0m\u001b[1;33m)\u001b[0m\u001b[1;33m\u001b[0m\u001b[0m\n\u001b[0m\u001b[0;32m     34\u001b[0m \u001b[1;33m\u001b[0m\u001b[0m\n\u001b[0;32m     35\u001b[0m         \u001b[1;32mif\u001b[0m \u001b[0mtrial\u001b[0m \u001b[1;33m>\u001b[0m \u001b[1;36m10\u001b[0m\u001b[1;33m:\u001b[0m\u001b[1;33m\u001b[0m\u001b[0m\n",
      "\u001b[1;32m~\\ALL ABOUT ME\\PROGRAMME\\Python\\lib\\site-packages\\pypot\\vrep\\__init__.py\u001b[0m in \u001b[0;36mget_time\u001b[1;34m(self, trial)\u001b[0m\n\u001b[0;32m     31\u001b[0m         \u001b[1;32mif\u001b[0m \u001b[0mt\u001b[0m \u001b[1;33m==\u001b[0m \u001b[1;36m0\u001b[0m\u001b[1;33m:\u001b[0m\u001b[1;33m\u001b[0m\u001b[0m\n\u001b[0;32m     32\u001b[0m             \u001b[0msys_time\u001b[0m\u001b[1;33m.\u001b[0m\u001b[0msleep\u001b[0m\u001b[1;33m(\u001b[0m\u001b[1;36m.5\u001b[0m\u001b[1;33m)\u001b[0m\u001b[1;33m\u001b[0m\u001b[0m\n\u001b[1;32m---> 33\u001b[1;33m             \u001b[1;32mreturn\u001b[0m \u001b[0mself\u001b[0m\u001b[1;33m.\u001b[0m\u001b[0mget_time\u001b[0m\u001b[1;33m(\u001b[0m\u001b[0mtrial\u001b[0m \u001b[1;33m+\u001b[0m \u001b[1;36m1\u001b[0m\u001b[1;33m)\u001b[0m\u001b[1;33m\u001b[0m\u001b[0m\n\u001b[0m\u001b[0;32m     34\u001b[0m \u001b[1;33m\u001b[0m\u001b[0m\n\u001b[0;32m     35\u001b[0m         \u001b[1;32mif\u001b[0m \u001b[0mtrial\u001b[0m \u001b[1;33m>\u001b[0m \u001b[1;36m10\u001b[0m\u001b[1;33m:\u001b[0m\u001b[1;33m\u001b[0m\u001b[0m\n",
      "\u001b[1;32m~\\ALL ABOUT ME\\PROGRAMME\\Python\\lib\\site-packages\\pypot\\vrep\\__init__.py\u001b[0m in \u001b[0;36mget_time\u001b[1;34m(self, trial)\u001b[0m\n\u001b[0;32m     31\u001b[0m         \u001b[1;32mif\u001b[0m \u001b[0mt\u001b[0m \u001b[1;33m==\u001b[0m \u001b[1;36m0\u001b[0m\u001b[1;33m:\u001b[0m\u001b[1;33m\u001b[0m\u001b[0m\n\u001b[0;32m     32\u001b[0m             \u001b[0msys_time\u001b[0m\u001b[1;33m.\u001b[0m\u001b[0msleep\u001b[0m\u001b[1;33m(\u001b[0m\u001b[1;36m.5\u001b[0m\u001b[1;33m)\u001b[0m\u001b[1;33m\u001b[0m\u001b[0m\n\u001b[1;32m---> 33\u001b[1;33m             \u001b[1;32mreturn\u001b[0m \u001b[0mself\u001b[0m\u001b[1;33m.\u001b[0m\u001b[0mget_time\u001b[0m\u001b[1;33m(\u001b[0m\u001b[0mtrial\u001b[0m \u001b[1;33m+\u001b[0m \u001b[1;36m1\u001b[0m\u001b[1;33m)\u001b[0m\u001b[1;33m\u001b[0m\u001b[0m\n\u001b[0m\u001b[0;32m     34\u001b[0m \u001b[1;33m\u001b[0m\u001b[0m\n\u001b[0;32m     35\u001b[0m         \u001b[1;32mif\u001b[0m \u001b[0mtrial\u001b[0m \u001b[1;33m>\u001b[0m \u001b[1;36m10\u001b[0m\u001b[1;33m:\u001b[0m\u001b[1;33m\u001b[0m\u001b[0m\n",
      "\u001b[1;32m~\\ALL ABOUT ME\\PROGRAMME\\Python\\lib\\site-packages\\pypot\\vrep\\__init__.py\u001b[0m in \u001b[0;36mget_time\u001b[1;34m(self, trial)\u001b[0m\n\u001b[0;32m     31\u001b[0m         \u001b[1;32mif\u001b[0m \u001b[0mt\u001b[0m \u001b[1;33m==\u001b[0m \u001b[1;36m0\u001b[0m\u001b[1;33m:\u001b[0m\u001b[1;33m\u001b[0m\u001b[0m\n\u001b[0;32m     32\u001b[0m             \u001b[0msys_time\u001b[0m\u001b[1;33m.\u001b[0m\u001b[0msleep\u001b[0m\u001b[1;33m(\u001b[0m\u001b[1;36m.5\u001b[0m\u001b[1;33m)\u001b[0m\u001b[1;33m\u001b[0m\u001b[0m\n\u001b[1;32m---> 33\u001b[1;33m             \u001b[1;32mreturn\u001b[0m \u001b[0mself\u001b[0m\u001b[1;33m.\u001b[0m\u001b[0mget_time\u001b[0m\u001b[1;33m(\u001b[0m\u001b[0mtrial\u001b[0m \u001b[1;33m+\u001b[0m \u001b[1;36m1\u001b[0m\u001b[1;33m)\u001b[0m\u001b[1;33m\u001b[0m\u001b[0m\n\u001b[0m\u001b[0;32m     34\u001b[0m \u001b[1;33m\u001b[0m\u001b[0m\n\u001b[0;32m     35\u001b[0m         \u001b[1;32mif\u001b[0m \u001b[0mtrial\u001b[0m \u001b[1;33m>\u001b[0m \u001b[1;36m10\u001b[0m\u001b[1;33m:\u001b[0m\u001b[1;33m\u001b[0m\u001b[0m\n",
      "\u001b[1;32m~\\ALL ABOUT ME\\PROGRAMME\\Python\\lib\\site-packages\\pypot\\vrep\\__init__.py\u001b[0m in \u001b[0;36mget_time\u001b[1;34m(self, trial)\u001b[0m\n\u001b[0;32m     31\u001b[0m         \u001b[1;32mif\u001b[0m \u001b[0mt\u001b[0m \u001b[1;33m==\u001b[0m \u001b[1;36m0\u001b[0m\u001b[1;33m:\u001b[0m\u001b[1;33m\u001b[0m\u001b[0m\n\u001b[0;32m     32\u001b[0m             \u001b[0msys_time\u001b[0m\u001b[1;33m.\u001b[0m\u001b[0msleep\u001b[0m\u001b[1;33m(\u001b[0m\u001b[1;36m.5\u001b[0m\u001b[1;33m)\u001b[0m\u001b[1;33m\u001b[0m\u001b[0m\n\u001b[1;32m---> 33\u001b[1;33m             \u001b[1;32mreturn\u001b[0m \u001b[0mself\u001b[0m\u001b[1;33m.\u001b[0m\u001b[0mget_time\u001b[0m\u001b[1;33m(\u001b[0m\u001b[0mtrial\u001b[0m \u001b[1;33m+\u001b[0m \u001b[1;36m1\u001b[0m\u001b[1;33m)\u001b[0m\u001b[1;33m\u001b[0m\u001b[0m\n\u001b[0m\u001b[0;32m     34\u001b[0m \u001b[1;33m\u001b[0m\u001b[0m\n\u001b[0;32m     35\u001b[0m         \u001b[1;32mif\u001b[0m \u001b[0mtrial\u001b[0m \u001b[1;33m>\u001b[0m \u001b[1;36m10\u001b[0m\u001b[1;33m:\u001b[0m\u001b[1;33m\u001b[0m\u001b[0m\n",
      "\u001b[1;32m~\\ALL ABOUT ME\\PROGRAMME\\Python\\lib\\site-packages\\pypot\\vrep\\__init__.py\u001b[0m in \u001b[0;36mget_time\u001b[1;34m(self, trial)\u001b[0m\n\u001b[0;32m     31\u001b[0m         \u001b[1;32mif\u001b[0m \u001b[0mt\u001b[0m \u001b[1;33m==\u001b[0m \u001b[1;36m0\u001b[0m\u001b[1;33m:\u001b[0m\u001b[1;33m\u001b[0m\u001b[0m\n\u001b[0;32m     32\u001b[0m             \u001b[0msys_time\u001b[0m\u001b[1;33m.\u001b[0m\u001b[0msleep\u001b[0m\u001b[1;33m(\u001b[0m\u001b[1;36m.5\u001b[0m\u001b[1;33m)\u001b[0m\u001b[1;33m\u001b[0m\u001b[0m\n\u001b[1;32m---> 33\u001b[1;33m             \u001b[1;32mreturn\u001b[0m \u001b[0mself\u001b[0m\u001b[1;33m.\u001b[0m\u001b[0mget_time\u001b[0m\u001b[1;33m(\u001b[0m\u001b[0mtrial\u001b[0m \u001b[1;33m+\u001b[0m \u001b[1;36m1\u001b[0m\u001b[1;33m)\u001b[0m\u001b[1;33m\u001b[0m\u001b[0m\n\u001b[0m\u001b[0;32m     34\u001b[0m \u001b[1;33m\u001b[0m\u001b[0m\n\u001b[0;32m     35\u001b[0m         \u001b[1;32mif\u001b[0m \u001b[0mtrial\u001b[0m \u001b[1;33m>\u001b[0m \u001b[1;36m10\u001b[0m\u001b[1;33m:\u001b[0m\u001b[1;33m\u001b[0m\u001b[0m\n",
      "\u001b[1;32m~\\ALL ABOUT ME\\PROGRAMME\\Python\\lib\\site-packages\\pypot\\vrep\\__init__.py\u001b[0m in \u001b[0;36mget_time\u001b[1;34m(self, trial)\u001b[0m\n\u001b[0;32m     31\u001b[0m         \u001b[1;32mif\u001b[0m \u001b[0mt\u001b[0m \u001b[1;33m==\u001b[0m \u001b[1;36m0\u001b[0m\u001b[1;33m:\u001b[0m\u001b[1;33m\u001b[0m\u001b[0m\n\u001b[0;32m     32\u001b[0m             \u001b[0msys_time\u001b[0m\u001b[1;33m.\u001b[0m\u001b[0msleep\u001b[0m\u001b[1;33m(\u001b[0m\u001b[1;36m.5\u001b[0m\u001b[1;33m)\u001b[0m\u001b[1;33m\u001b[0m\u001b[0m\n\u001b[1;32m---> 33\u001b[1;33m             \u001b[1;32mreturn\u001b[0m \u001b[0mself\u001b[0m\u001b[1;33m.\u001b[0m\u001b[0mget_time\u001b[0m\u001b[1;33m(\u001b[0m\u001b[0mtrial\u001b[0m \u001b[1;33m+\u001b[0m \u001b[1;36m1\u001b[0m\u001b[1;33m)\u001b[0m\u001b[1;33m\u001b[0m\u001b[0m\n\u001b[0m\u001b[0;32m     34\u001b[0m \u001b[1;33m\u001b[0m\u001b[0m\n\u001b[0;32m     35\u001b[0m         \u001b[1;32mif\u001b[0m \u001b[0mtrial\u001b[0m \u001b[1;33m>\u001b[0m \u001b[1;36m10\u001b[0m\u001b[1;33m:\u001b[0m\u001b[1;33m\u001b[0m\u001b[0m\n",
      "\u001b[1;32m~\\ALL ABOUT ME\\PROGRAMME\\Python\\lib\\site-packages\\pypot\\vrep\\__init__.py\u001b[0m in \u001b[0;36mget_time\u001b[1;34m(self, trial)\u001b[0m\n\u001b[0;32m     31\u001b[0m         \u001b[1;32mif\u001b[0m \u001b[0mt\u001b[0m \u001b[1;33m==\u001b[0m \u001b[1;36m0\u001b[0m\u001b[1;33m:\u001b[0m\u001b[1;33m\u001b[0m\u001b[0m\n\u001b[0;32m     32\u001b[0m             \u001b[0msys_time\u001b[0m\u001b[1;33m.\u001b[0m\u001b[0msleep\u001b[0m\u001b[1;33m(\u001b[0m\u001b[1;36m.5\u001b[0m\u001b[1;33m)\u001b[0m\u001b[1;33m\u001b[0m\u001b[0m\n\u001b[1;32m---> 33\u001b[1;33m             \u001b[1;32mreturn\u001b[0m \u001b[0mself\u001b[0m\u001b[1;33m.\u001b[0m\u001b[0mget_time\u001b[0m\u001b[1;33m(\u001b[0m\u001b[0mtrial\u001b[0m \u001b[1;33m+\u001b[0m \u001b[1;36m1\u001b[0m\u001b[1;33m)\u001b[0m\u001b[1;33m\u001b[0m\u001b[0m\n\u001b[0m\u001b[0;32m     34\u001b[0m \u001b[1;33m\u001b[0m\u001b[0m\n\u001b[0;32m     35\u001b[0m         \u001b[1;32mif\u001b[0m \u001b[0mtrial\u001b[0m \u001b[1;33m>\u001b[0m \u001b[1;36m10\u001b[0m\u001b[1;33m:\u001b[0m\u001b[1;33m\u001b[0m\u001b[0m\n",
      "\u001b[1;32m~\\ALL ABOUT ME\\PROGRAMME\\Python\\lib\\site-packages\\pypot\\vrep\\__init__.py\u001b[0m in \u001b[0;36mget_time\u001b[1;34m(self, trial)\u001b[0m\n\u001b[0;32m     31\u001b[0m         \u001b[1;32mif\u001b[0m \u001b[0mt\u001b[0m \u001b[1;33m==\u001b[0m \u001b[1;36m0\u001b[0m\u001b[1;33m:\u001b[0m\u001b[1;33m\u001b[0m\u001b[0m\n\u001b[0;32m     32\u001b[0m             \u001b[0msys_time\u001b[0m\u001b[1;33m.\u001b[0m\u001b[0msleep\u001b[0m\u001b[1;33m(\u001b[0m\u001b[1;36m.5\u001b[0m\u001b[1;33m)\u001b[0m\u001b[1;33m\u001b[0m\u001b[0m\n\u001b[1;32m---> 33\u001b[1;33m             \u001b[1;32mreturn\u001b[0m \u001b[0mself\u001b[0m\u001b[1;33m.\u001b[0m\u001b[0mget_time\u001b[0m\u001b[1;33m(\u001b[0m\u001b[0mtrial\u001b[0m \u001b[1;33m+\u001b[0m \u001b[1;36m1\u001b[0m\u001b[1;33m)\u001b[0m\u001b[1;33m\u001b[0m\u001b[0m\n\u001b[0m\u001b[0;32m     34\u001b[0m \u001b[1;33m\u001b[0m\u001b[0m\n\u001b[0;32m     35\u001b[0m         \u001b[1;32mif\u001b[0m \u001b[0mtrial\u001b[0m \u001b[1;33m>\u001b[0m \u001b[1;36m10\u001b[0m\u001b[1;33m:\u001b[0m\u001b[1;33m\u001b[0m\u001b[0m\n",
      "\u001b[1;32m~\\ALL ABOUT ME\\PROGRAMME\\Python\\lib\\site-packages\\pypot\\vrep\\__init__.py\u001b[0m in \u001b[0;36mget_time\u001b[1;34m(self, trial)\u001b[0m\n\u001b[0;32m     31\u001b[0m         \u001b[1;32mif\u001b[0m \u001b[0mt\u001b[0m \u001b[1;33m==\u001b[0m \u001b[1;36m0\u001b[0m\u001b[1;33m:\u001b[0m\u001b[1;33m\u001b[0m\u001b[0m\n\u001b[0;32m     32\u001b[0m             \u001b[0msys_time\u001b[0m\u001b[1;33m.\u001b[0m\u001b[0msleep\u001b[0m\u001b[1;33m(\u001b[0m\u001b[1;36m.5\u001b[0m\u001b[1;33m)\u001b[0m\u001b[1;33m\u001b[0m\u001b[0m\n\u001b[1;32m---> 33\u001b[1;33m             \u001b[1;32mreturn\u001b[0m \u001b[0mself\u001b[0m\u001b[1;33m.\u001b[0m\u001b[0mget_time\u001b[0m\u001b[1;33m(\u001b[0m\u001b[0mtrial\u001b[0m \u001b[1;33m+\u001b[0m \u001b[1;36m1\u001b[0m\u001b[1;33m)\u001b[0m\u001b[1;33m\u001b[0m\u001b[0m\n\u001b[0m\u001b[0;32m     34\u001b[0m \u001b[1;33m\u001b[0m\u001b[0m\n\u001b[0;32m     35\u001b[0m         \u001b[1;32mif\u001b[0m \u001b[0mtrial\u001b[0m \u001b[1;33m>\u001b[0m \u001b[1;36m10\u001b[0m\u001b[1;33m:\u001b[0m\u001b[1;33m\u001b[0m\u001b[0m\n",
      "\u001b[1;32m~\\ALL ABOUT ME\\PROGRAMME\\Python\\lib\\site-packages\\pypot\\vrep\\__init__.py\u001b[0m in \u001b[0;36mget_time\u001b[1;34m(self, trial)\u001b[0m\n\u001b[0;32m     34\u001b[0m \u001b[1;33m\u001b[0m\u001b[0m\n\u001b[0;32m     35\u001b[0m         \u001b[1;32mif\u001b[0m \u001b[0mtrial\u001b[0m \u001b[1;33m>\u001b[0m \u001b[1;36m10\u001b[0m\u001b[1;33m:\u001b[0m\u001b[1;33m\u001b[0m\u001b[0m\n\u001b[1;32m---> 36\u001b[1;33m             \u001b[1;32mraise\u001b[0m \u001b[0mEnvironmentError\u001b[0m\u001b[1;33m(\u001b[0m\u001b[1;34m'Could not get current simulation time. Make sure the V-REP simulation is running. And that you have added the \"time\" child script to your scene.'\u001b[0m\u001b[1;33m)\u001b[0m\u001b[1;33m\u001b[0m\u001b[0m\n\u001b[0m\u001b[0;32m     37\u001b[0m \u001b[1;33m\u001b[0m\u001b[0m\n\u001b[0;32m     38\u001b[0m         \u001b[1;32mreturn\u001b[0m \u001b[0mt\u001b[0m\u001b[1;33m\u001b[0m\u001b[0m\n",
      "\u001b[1;31mOSError\u001b[0m: Could not get current simulation time. Make sure the V-REP simulation is running. And that you have added the \"time\" child script to your scene."
     ]
    }
   ],
   "source": [
    "poppy.r_shoulder_x.goto_position(180, 2, wait=False)\n",
    "poppy.r_shoulder_y.goto_position(30, 2, wait=True)\n",
    "\n",
    "poppy.r_shoulder_x.goto_position(30, 2, wait=True)\n",
    "\n",
    "poppy.r_shoulder_y.goto_position(-10, 1, wait=True)"
   ]
  },
  {
   "cell_type": "code",
   "execution_count": null,
   "metadata": {},
   "outputs": [],
   "source": []
  },
  {
   "cell_type": "code",
   "execution_count": null,
   "metadata": {},
   "outputs": [],
   "source": [
    "poppy.r_shoulder_x.goto_position(180, 2, wait=False)\n",
    "poppy.r_shoulder_y.goto_position(30, 2, wait=True)\n",
    "\n",
    "poppy.r_shoulder_x.goto_position(30, 2, wait=True)\n",
    "\n",
    "poppy.r_shoulder_y.goto_position(-10, 1, wait=True)"
   ]
  },
  {
   "cell_type": "code",
   "execution_count": null,
   "metadata": {},
   "outputs": [],
   "source": [
    "poppy.head_x.goto_position(90,2)"
   ]
  },
  {
   "cell_type": "code",
   "execution_count": 45,
   "metadata": {},
   "outputs": [],
   "source": [
    "poppy.r_shoulder_x.goto_position(180, 2, wait=False)\n",
    "poppy.r_shoulder_y.goto_position(30, 2, wait=True)\n",
    "\n",
    "poppy.r_shoulder_x.goto_position(30, 2, wait=True)\n",
    "\n",
    "poppy.r_shoulder_y.goto_position(-10, 1, wait=True)"
   ]
  },
  {
   "cell_type": "code",
   "execution_count": 46,
   "metadata": {},
   "outputs": [
    {
     "ename": "AttributeError",
     "evalue": "'Robot' object has no attribute 'head_x'",
     "output_type": "error",
     "traceback": [
      "\u001b[1;31m---------------------------------------------------------------------------\u001b[0m",
      "\u001b[1;31mAttributeError\u001b[0m                            Traceback (most recent call last)",
      "\u001b[1;32m<ipython-input-46-08a854134044>\u001b[0m in \u001b[0;36m<module>\u001b[1;34m()\u001b[0m\n\u001b[1;32m----> 1\u001b[1;33m \u001b[0mpoppy\u001b[0m\u001b[1;33m.\u001b[0m\u001b[0mhead_x\u001b[0m\u001b[1;33m.\u001b[0m\u001b[0mgoto_position\u001b[0m\u001b[1;33m(\u001b[0m\u001b[1;36m90\u001b[0m\u001b[1;33m,\u001b[0m\u001b[1;36m2\u001b[0m\u001b[1;33m)\u001b[0m\u001b[1;33m\u001b[0m\u001b[0m\n\u001b[0m",
      "\u001b[1;31mAttributeError\u001b[0m: 'Robot' object has no attribute 'head_x'"
     ]
    }
   ],
   "source": [
    "poppy.head_x.goto_position(90,2)"
   ]
  },
  {
   "cell_type": "code",
   "execution_count": 47,
   "metadata": {},
   "outputs": [],
   "source": [
    "poppy.r_shoulder_x.goal_position = 30\n",
    "poppy.r_shoulder_x.goal_position = -30"
   ]
  },
  {
   "cell_type": "code",
   "execution_count": null,
   "metadata": {},
   "outputs": [],
   "source": [
    " import SimpleBodyBeatMotion"
   ]
  }
 ],
 "metadata": {
  "kernelspec": {
   "display_name": "Python 3",
   "language": "python",
   "name": "python3"
  },
  "language_info": {
   "codemirror_mode": {
    "name": "ipython",
    "version": 3
   },
   "file_extension": ".py",
   "mimetype": "text/x-python",
   "name": "python",
   "nbconvert_exporter": "python",
   "pygments_lexer": "ipython3",
   "version": "3.6.5"
  }
 },
 "nbformat": 4,
 "nbformat_minor": 2
}
